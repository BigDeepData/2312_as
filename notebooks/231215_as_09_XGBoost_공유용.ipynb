{
  "nbformat": 4,
  "nbformat_minor": 0,
  "metadata": {
    "colab": {
      "provenance": [],
      "collapsed_sections": [
        "br7-xAVo-DZG",
        "fynb9DPGfKZK"
      ]
    },
    "kernelspec": {
      "name": "python3",
      "display_name": "Python 3"
    },
    "language_info": {
      "name": "python"
    }
  },
  "cells": [
    {
      "cell_type": "code",
      "execution_count": null,
      "metadata": {
        "id": "Cw31qU5UqzAJ"
      },
      "outputs": [],
      "source": [
        "import pandas as pd\n",
        "import numpy as np\n",
        "import matplotlib.pyplot as plt\n",
        "import seaborn as sns"
      ]
    },
    {
      "cell_type": "code",
      "source": [
        "# https://www.kaggle.com/datasets/annavictoria/speed-dating-experiment\n",
        "df = pd.read_csv(\"https://raw.githubusercontent.com/BigDeepData/2312_as/main/data/dating.csv\")\n",
        "df"
      ],
      "metadata": {
        "colab": {
          "base_uri": "https://localhost:8080/",
          "height": 661
        },
        "id": "CY5aUxTAxflW",
        "outputId": "61f1a448-8069-4469-9939-0f691027f265"
      },
      "execution_count": null,
      "outputs": [
        {
          "output_type": "execute_result",
          "data": {
            "text/plain": [
              "      has_null  gender   age  age_o                                  race  \\\n",
              "0            0  female  21.0   27.0  Asian/PacificIslander/Asian-American   \n",
              "1            0  female  21.0   22.0  Asian/PacificIslander/Asian-American   \n",
              "2            1  female  21.0   22.0  Asian/PacificIslander/Asian-American   \n",
              "3            0  female  21.0   23.0  Asian/PacificIslander/Asian-American   \n",
              "4            0  female  21.0   24.0  Asian/PacificIslander/Asian-American   \n",
              "...        ...     ...   ...    ...                                   ...   \n",
              "8373         1    male  25.0   26.0           European/Caucasian-American   \n",
              "8374         1    male  25.0   24.0           European/Caucasian-American   \n",
              "8375         1    male  25.0   29.0           European/Caucasian-American   \n",
              "8376         1    male  25.0   22.0           European/Caucasian-American   \n",
              "8377         1    male  25.0   22.0           European/Caucasian-American   \n",
              "\n",
              "                                    race_o  importance_same_race  \\\n",
              "0              European/Caucasian-American                   2.0   \n",
              "1              European/Caucasian-American                   2.0   \n",
              "2     Asian/PacificIslander/Asian-American                   2.0   \n",
              "3              European/Caucasian-American                   2.0   \n",
              "4                  Latino/HispanicAmerican                   2.0   \n",
              "...                                    ...                   ...   \n",
              "8373               Latino/HispanicAmerican                   1.0   \n",
              "8374                                 Other                   1.0   \n",
              "8375               Latino/HispanicAmerican                   1.0   \n",
              "8376  Asian/PacificIslander/Asian-American                   1.0   \n",
              "8377  Asian/PacificIslander/Asian-American                   1.0   \n",
              "\n",
              "      importance_same_religion  pref_o_attractive  pref_o_sincere  ...  \\\n",
              "0                          4.0               35.0            20.0  ...   \n",
              "1                          4.0               60.0             0.0  ...   \n",
              "2                          4.0               19.0            18.0  ...   \n",
              "3                          4.0               30.0             5.0  ...   \n",
              "4                          4.0               30.0            10.0  ...   \n",
              "...                        ...                ...             ...  ...   \n",
              "8373                       1.0               10.0            10.0  ...   \n",
              "8374                       1.0               50.0            20.0  ...   \n",
              "8375                       1.0               40.0            10.0  ...   \n",
              "8376                       1.0               10.0            25.0  ...   \n",
              "8377                       1.0               20.0            20.0  ...   \n",
              "\n",
              "      funny_partner  ambition_partner  shared_interests_partner  \\\n",
              "0               7.0               6.0                       5.0   \n",
              "1               8.0               5.0                       6.0   \n",
              "2               8.0               5.0                       7.0   \n",
              "3               7.0               6.0                       8.0   \n",
              "4               7.0               6.0                       6.0   \n",
              "...             ...               ...                       ...   \n",
              "8373            5.0               NaN                       NaN   \n",
              "8374            4.0               4.0                       NaN   \n",
              "8375            8.0               8.0                       NaN   \n",
              "8376            4.0               NaN                       5.0   \n",
              "8377            4.0               8.0                       1.0   \n",
              "\n",
              "      interests_correlate  expected_happy_with_sd_people  \\\n",
              "0                    0.14                            3.0   \n",
              "1                    0.54                            3.0   \n",
              "2                    0.16                            3.0   \n",
              "3                    0.61                            3.0   \n",
              "4                    0.21                            3.0   \n",
              "...                   ...                            ...   \n",
              "8373                 0.64                           10.0   \n",
              "8374                 0.71                           10.0   \n",
              "8375                -0.46                           10.0   \n",
              "8376                 0.62                           10.0   \n",
              "8377                 0.01                           10.0   \n",
              "\n",
              "      expected_num_interested_in_me  like  guess_prob_liked  met  match  \n",
              "0                               2.0   7.0               6.0  0.0      0  \n",
              "1                               2.0   7.0               5.0  1.0      0  \n",
              "2                               2.0   7.0               NaN  1.0      1  \n",
              "3                               2.0   7.0               6.0  0.0      1  \n",
              "4                               2.0   6.0               6.0  0.0      1  \n",
              "...                             ...   ...               ...  ...    ...  \n",
              "8373                            NaN   2.0               5.0  0.0      0  \n",
              "8374                            NaN   4.0               4.0  0.0      0  \n",
              "8375                            NaN   6.0               5.0  0.0      0  \n",
              "8376                            NaN   5.0               5.0  0.0      0  \n",
              "8377                            NaN   4.0               5.0  0.0      0  \n",
              "\n",
              "[8378 rows x 39 columns]"
            ],
            "text/html": [
              "\n",
              "  <div id=\"df-f61c3107-b893-4afc-a819-5386c8166556\">\n",
              "    <div class=\"colab-df-container\">\n",
              "      <div>\n",
              "<style scoped>\n",
              "    .dataframe tbody tr th:only-of-type {\n",
              "        vertical-align: middle;\n",
              "    }\n",
              "\n",
              "    .dataframe tbody tr th {\n",
              "        vertical-align: top;\n",
              "    }\n",
              "\n",
              "    .dataframe thead th {\n",
              "        text-align: right;\n",
              "    }\n",
              "</style>\n",
              "<table border=\"1\" class=\"dataframe\">\n",
              "  <thead>\n",
              "    <tr style=\"text-align: right;\">\n",
              "      <th></th>\n",
              "      <th>has_null</th>\n",
              "      <th>gender</th>\n",
              "      <th>age</th>\n",
              "      <th>age_o</th>\n",
              "      <th>race</th>\n",
              "      <th>race_o</th>\n",
              "      <th>importance_same_race</th>\n",
              "      <th>importance_same_religion</th>\n",
              "      <th>pref_o_attractive</th>\n",
              "      <th>pref_o_sincere</th>\n",
              "      <th>...</th>\n",
              "      <th>funny_partner</th>\n",
              "      <th>ambition_partner</th>\n",
              "      <th>shared_interests_partner</th>\n",
              "      <th>interests_correlate</th>\n",
              "      <th>expected_happy_with_sd_people</th>\n",
              "      <th>expected_num_interested_in_me</th>\n",
              "      <th>like</th>\n",
              "      <th>guess_prob_liked</th>\n",
              "      <th>met</th>\n",
              "      <th>match</th>\n",
              "    </tr>\n",
              "  </thead>\n",
              "  <tbody>\n",
              "    <tr>\n",
              "      <th>0</th>\n",
              "      <td>0</td>\n",
              "      <td>female</td>\n",
              "      <td>21.0</td>\n",
              "      <td>27.0</td>\n",
              "      <td>Asian/PacificIslander/Asian-American</td>\n",
              "      <td>European/Caucasian-American</td>\n",
              "      <td>2.0</td>\n",
              "      <td>4.0</td>\n",
              "      <td>35.0</td>\n",
              "      <td>20.0</td>\n",
              "      <td>...</td>\n",
              "      <td>7.0</td>\n",
              "      <td>6.0</td>\n",
              "      <td>5.0</td>\n",
              "      <td>0.14</td>\n",
              "      <td>3.0</td>\n",
              "      <td>2.0</td>\n",
              "      <td>7.0</td>\n",
              "      <td>6.0</td>\n",
              "      <td>0.0</td>\n",
              "      <td>0</td>\n",
              "    </tr>\n",
              "    <tr>\n",
              "      <th>1</th>\n",
              "      <td>0</td>\n",
              "      <td>female</td>\n",
              "      <td>21.0</td>\n",
              "      <td>22.0</td>\n",
              "      <td>Asian/PacificIslander/Asian-American</td>\n",
              "      <td>European/Caucasian-American</td>\n",
              "      <td>2.0</td>\n",
              "      <td>4.0</td>\n",
              "      <td>60.0</td>\n",
              "      <td>0.0</td>\n",
              "      <td>...</td>\n",
              "      <td>8.0</td>\n",
              "      <td>5.0</td>\n",
              "      <td>6.0</td>\n",
              "      <td>0.54</td>\n",
              "      <td>3.0</td>\n",
              "      <td>2.0</td>\n",
              "      <td>7.0</td>\n",
              "      <td>5.0</td>\n",
              "      <td>1.0</td>\n",
              "      <td>0</td>\n",
              "    </tr>\n",
              "    <tr>\n",
              "      <th>2</th>\n",
              "      <td>1</td>\n",
              "      <td>female</td>\n",
              "      <td>21.0</td>\n",
              "      <td>22.0</td>\n",
              "      <td>Asian/PacificIslander/Asian-American</td>\n",
              "      <td>Asian/PacificIslander/Asian-American</td>\n",
              "      <td>2.0</td>\n",
              "      <td>4.0</td>\n",
              "      <td>19.0</td>\n",
              "      <td>18.0</td>\n",
              "      <td>...</td>\n",
              "      <td>8.0</td>\n",
              "      <td>5.0</td>\n",
              "      <td>7.0</td>\n",
              "      <td>0.16</td>\n",
              "      <td>3.0</td>\n",
              "      <td>2.0</td>\n",
              "      <td>7.0</td>\n",
              "      <td>NaN</td>\n",
              "      <td>1.0</td>\n",
              "      <td>1</td>\n",
              "    </tr>\n",
              "    <tr>\n",
              "      <th>3</th>\n",
              "      <td>0</td>\n",
              "      <td>female</td>\n",
              "      <td>21.0</td>\n",
              "      <td>23.0</td>\n",
              "      <td>Asian/PacificIslander/Asian-American</td>\n",
              "      <td>European/Caucasian-American</td>\n",
              "      <td>2.0</td>\n",
              "      <td>4.0</td>\n",
              "      <td>30.0</td>\n",
              "      <td>5.0</td>\n",
              "      <td>...</td>\n",
              "      <td>7.0</td>\n",
              "      <td>6.0</td>\n",
              "      <td>8.0</td>\n",
              "      <td>0.61</td>\n",
              "      <td>3.0</td>\n",
              "      <td>2.0</td>\n",
              "      <td>7.0</td>\n",
              "      <td>6.0</td>\n",
              "      <td>0.0</td>\n",
              "      <td>1</td>\n",
              "    </tr>\n",
              "    <tr>\n",
              "      <th>4</th>\n",
              "      <td>0</td>\n",
              "      <td>female</td>\n",
              "      <td>21.0</td>\n",
              "      <td>24.0</td>\n",
              "      <td>Asian/PacificIslander/Asian-American</td>\n",
              "      <td>Latino/HispanicAmerican</td>\n",
              "      <td>2.0</td>\n",
              "      <td>4.0</td>\n",
              "      <td>30.0</td>\n",
              "      <td>10.0</td>\n",
              "      <td>...</td>\n",
              "      <td>7.0</td>\n",
              "      <td>6.0</td>\n",
              "      <td>6.0</td>\n",
              "      <td>0.21</td>\n",
              "      <td>3.0</td>\n",
              "      <td>2.0</td>\n",
              "      <td>6.0</td>\n",
              "      <td>6.0</td>\n",
              "      <td>0.0</td>\n",
              "      <td>1</td>\n",
              "    </tr>\n",
              "    <tr>\n",
              "      <th>...</th>\n",
              "      <td>...</td>\n",
              "      <td>...</td>\n",
              "      <td>...</td>\n",
              "      <td>...</td>\n",
              "      <td>...</td>\n",
              "      <td>...</td>\n",
              "      <td>...</td>\n",
              "      <td>...</td>\n",
              "      <td>...</td>\n",
              "      <td>...</td>\n",
              "      <td>...</td>\n",
              "      <td>...</td>\n",
              "      <td>...</td>\n",
              "      <td>...</td>\n",
              "      <td>...</td>\n",
              "      <td>...</td>\n",
              "      <td>...</td>\n",
              "      <td>...</td>\n",
              "      <td>...</td>\n",
              "      <td>...</td>\n",
              "      <td>...</td>\n",
              "    </tr>\n",
              "    <tr>\n",
              "      <th>8373</th>\n",
              "      <td>1</td>\n",
              "      <td>male</td>\n",
              "      <td>25.0</td>\n",
              "      <td>26.0</td>\n",
              "      <td>European/Caucasian-American</td>\n",
              "      <td>Latino/HispanicAmerican</td>\n",
              "      <td>1.0</td>\n",
              "      <td>1.0</td>\n",
              "      <td>10.0</td>\n",
              "      <td>10.0</td>\n",
              "      <td>...</td>\n",
              "      <td>5.0</td>\n",
              "      <td>NaN</td>\n",
              "      <td>NaN</td>\n",
              "      <td>0.64</td>\n",
              "      <td>10.0</td>\n",
              "      <td>NaN</td>\n",
              "      <td>2.0</td>\n",
              "      <td>5.0</td>\n",
              "      <td>0.0</td>\n",
              "      <td>0</td>\n",
              "    </tr>\n",
              "    <tr>\n",
              "      <th>8374</th>\n",
              "      <td>1</td>\n",
              "      <td>male</td>\n",
              "      <td>25.0</td>\n",
              "      <td>24.0</td>\n",
              "      <td>European/Caucasian-American</td>\n",
              "      <td>Other</td>\n",
              "      <td>1.0</td>\n",
              "      <td>1.0</td>\n",
              "      <td>50.0</td>\n",
              "      <td>20.0</td>\n",
              "      <td>...</td>\n",
              "      <td>4.0</td>\n",
              "      <td>4.0</td>\n",
              "      <td>NaN</td>\n",
              "      <td>0.71</td>\n",
              "      <td>10.0</td>\n",
              "      <td>NaN</td>\n",
              "      <td>4.0</td>\n",
              "      <td>4.0</td>\n",
              "      <td>0.0</td>\n",
              "      <td>0</td>\n",
              "    </tr>\n",
              "    <tr>\n",
              "      <th>8375</th>\n",
              "      <td>1</td>\n",
              "      <td>male</td>\n",
              "      <td>25.0</td>\n",
              "      <td>29.0</td>\n",
              "      <td>European/Caucasian-American</td>\n",
              "      <td>Latino/HispanicAmerican</td>\n",
              "      <td>1.0</td>\n",
              "      <td>1.0</td>\n",
              "      <td>40.0</td>\n",
              "      <td>10.0</td>\n",
              "      <td>...</td>\n",
              "      <td>8.0</td>\n",
              "      <td>8.0</td>\n",
              "      <td>NaN</td>\n",
              "      <td>-0.46</td>\n",
              "      <td>10.0</td>\n",
              "      <td>NaN</td>\n",
              "      <td>6.0</td>\n",
              "      <td>5.0</td>\n",
              "      <td>0.0</td>\n",
              "      <td>0</td>\n",
              "    </tr>\n",
              "    <tr>\n",
              "      <th>8376</th>\n",
              "      <td>1</td>\n",
              "      <td>male</td>\n",
              "      <td>25.0</td>\n",
              "      <td>22.0</td>\n",
              "      <td>European/Caucasian-American</td>\n",
              "      <td>Asian/PacificIslander/Asian-American</td>\n",
              "      <td>1.0</td>\n",
              "      <td>1.0</td>\n",
              "      <td>10.0</td>\n",
              "      <td>25.0</td>\n",
              "      <td>...</td>\n",
              "      <td>4.0</td>\n",
              "      <td>NaN</td>\n",
              "      <td>5.0</td>\n",
              "      <td>0.62</td>\n",
              "      <td>10.0</td>\n",
              "      <td>NaN</td>\n",
              "      <td>5.0</td>\n",
              "      <td>5.0</td>\n",
              "      <td>0.0</td>\n",
              "      <td>0</td>\n",
              "    </tr>\n",
              "    <tr>\n",
              "      <th>8377</th>\n",
              "      <td>1</td>\n",
              "      <td>male</td>\n",
              "      <td>25.0</td>\n",
              "      <td>22.0</td>\n",
              "      <td>European/Caucasian-American</td>\n",
              "      <td>Asian/PacificIslander/Asian-American</td>\n",
              "      <td>1.0</td>\n",
              "      <td>1.0</td>\n",
              "      <td>20.0</td>\n",
              "      <td>20.0</td>\n",
              "      <td>...</td>\n",
              "      <td>4.0</td>\n",
              "      <td>8.0</td>\n",
              "      <td>1.0</td>\n",
              "      <td>0.01</td>\n",
              "      <td>10.0</td>\n",
              "      <td>NaN</td>\n",
              "      <td>4.0</td>\n",
              "      <td>5.0</td>\n",
              "      <td>0.0</td>\n",
              "      <td>0</td>\n",
              "    </tr>\n",
              "  </tbody>\n",
              "</table>\n",
              "<p>8378 rows × 39 columns</p>\n",
              "</div>\n",
              "      <button class=\"colab-df-convert\" onclick=\"convertToInteractive('df-f61c3107-b893-4afc-a819-5386c8166556')\"\n",
              "              title=\"Convert this dataframe to an interactive table.\"\n",
              "              style=\"display:none;\">\n",
              "        \n",
              "  <svg xmlns=\"http://www.w3.org/2000/svg\" height=\"24px\"viewBox=\"0 0 24 24\"\n",
              "       width=\"24px\">\n",
              "    <path d=\"M0 0h24v24H0V0z\" fill=\"none\"/>\n",
              "    <path d=\"M18.56 5.44l.94 2.06.94-2.06 2.06-.94-2.06-.94-.94-2.06-.94 2.06-2.06.94zm-11 1L8.5 8.5l.94-2.06 2.06-.94-2.06-.94L8.5 2.5l-.94 2.06-2.06.94zm10 10l.94 2.06.94-2.06 2.06-.94-2.06-.94-.94-2.06-.94 2.06-2.06.94z\"/><path d=\"M17.41 7.96l-1.37-1.37c-.4-.4-.92-.59-1.43-.59-.52 0-1.04.2-1.43.59L10.3 9.45l-7.72 7.72c-.78.78-.78 2.05 0 2.83L4 21.41c.39.39.9.59 1.41.59.51 0 1.02-.2 1.41-.59l7.78-7.78 2.81-2.81c.8-.78.8-2.07 0-2.86zM5.41 20L4 18.59l7.72-7.72 1.47 1.35L5.41 20z\"/>\n",
              "  </svg>\n",
              "      </button>\n",
              "      \n",
              "  <style>\n",
              "    .colab-df-container {\n",
              "      display:flex;\n",
              "      flex-wrap:wrap;\n",
              "      gap: 12px;\n",
              "    }\n",
              "\n",
              "    .colab-df-convert {\n",
              "      background-color: #E8F0FE;\n",
              "      border: none;\n",
              "      border-radius: 50%;\n",
              "      cursor: pointer;\n",
              "      display: none;\n",
              "      fill: #1967D2;\n",
              "      height: 32px;\n",
              "      padding: 0 0 0 0;\n",
              "      width: 32px;\n",
              "    }\n",
              "\n",
              "    .colab-df-convert:hover {\n",
              "      background-color: #E2EBFA;\n",
              "      box-shadow: 0px 1px 2px rgba(60, 64, 67, 0.3), 0px 1px 3px 1px rgba(60, 64, 67, 0.15);\n",
              "      fill: #174EA6;\n",
              "    }\n",
              "\n",
              "    [theme=dark] .colab-df-convert {\n",
              "      background-color: #3B4455;\n",
              "      fill: #D2E3FC;\n",
              "    }\n",
              "\n",
              "    [theme=dark] .colab-df-convert:hover {\n",
              "      background-color: #434B5C;\n",
              "      box-shadow: 0px 1px 3px 1px rgba(0, 0, 0, 0.15);\n",
              "      filter: drop-shadow(0px 1px 2px rgba(0, 0, 0, 0.3));\n",
              "      fill: #FFFFFF;\n",
              "    }\n",
              "  </style>\n",
              "\n",
              "      <script>\n",
              "        const buttonEl =\n",
              "          document.querySelector('#df-f61c3107-b893-4afc-a819-5386c8166556 button.colab-df-convert');\n",
              "        buttonEl.style.display =\n",
              "          google.colab.kernel.accessAllowed ? 'block' : 'none';\n",
              "\n",
              "        async function convertToInteractive(key) {\n",
              "          const element = document.querySelector('#df-f61c3107-b893-4afc-a819-5386c8166556');\n",
              "          const dataTable =\n",
              "            await google.colab.kernel.invokeFunction('convertToInteractive',\n",
              "                                                     [key], {});\n",
              "          if (!dataTable) return;\n",
              "\n",
              "          const docLinkHtml = 'Like what you see? Visit the ' +\n",
              "            '<a target=\"_blank\" href=https://colab.research.google.com/notebooks/data_table.ipynb>data table notebook</a>'\n",
              "            + ' to learn more about interactive tables.';\n",
              "          element.innerHTML = '';\n",
              "          dataTable['output_type'] = 'display_data';\n",
              "          await google.colab.output.renderOutput(dataTable, element);\n",
              "          const docLink = document.createElement('div');\n",
              "          docLink.innerHTML = docLinkHtml;\n",
              "          element.appendChild(docLink);\n",
              "        }\n",
              "      </script>\n",
              "    </div>\n",
              "  </div>\n",
              "  "
            ]
          },
          "metadata": {},
          "execution_count": 2
        }
      ]
    },
    {
      "cell_type": "code",
      "source": [
        "df.info()"
      ],
      "metadata": {
        "id": "8YYwfnidyZsY"
      },
      "execution_count": null,
      "outputs": []
    },
    {
      "cell_type": "markdown",
      "source": [
        "# 변수 목록\n",
        "\n",
        "## 목표값, 종속변수, 라벨, y\n",
        "* match : 커플 성사 여부\n",
        "\n",
        "## 관측값, 독립변수, 피처, X\n",
        "* has_null\n",
        "    - 변수 중 Null값이 있는지 여부. 단, 이 데이터는 기존 데이터에서 일부 변수들이 생략된 축소판이기 때문에, 여기서 보이는 Null값 여부와 다소 차이가 있을 수 있음.\n",
        "    - 전반적으로 무응답 항목이 있는지에 대한 정보이므로 그대로 사용\n",
        "* age / age_o : age는 본인 나이이며 age_o는 상대방 나이.\n",
        "* race / race_o : 마찬가지로 본인과 상대의 인종 정보.\n",
        "* importance_same_race / importance_same_religion\n",
        "    * 인종과 종교를 중요시 여기는지에 대한 응답\n",
        "* attractive(매력적인), sincere(성실한), intelligence(지적), funny(재미난), ambitious(야심찬), shared_ interests(공통관심사) : 이 항목들은 4가지 관점에서 평가되어 총 변수가 24(6 × 4)개\n",
        "    * pref_o_xxx( 예 : pref_o_attractive) : 상대방이 xxx 항목을 얼마나 중요하게 생각하는가에 대한 응답\n",
        "    * xxx_o(예: attractive_o) : 상대방이 본인에 대한 xxx 항목을 평가한 항목\n",
        "    * xxx_important(예 : attractive_important) : xxx 항목에 대해 본인이 얼마나 중요하게 생각하는가에 대한 응답\n",
        "    * xxx_partner(예 : attractive_partner) : 본인이 상대방에 대한 xxx 항목을 평가한 항목\n",
        "* interests_correlate : 관심사(취미 등) 연관도\n",
        "* expected_happy_with_sd_people : 스피드 데이팅을 통해 만난 사람과 함께할 때 얼마나 좋을\n",
        "지에 대한 기대치\n",
        "* expected_num_interested_in_me : 얼마나 많은 사람이 나에게 관심을 보일지에 대한 기대치\n",
        "* like : 파트너가 마음에 들었는지 여부\n",
        "* guess_prob_liked : 파트너가 나를 마음에 들어했을지에 대한 예상\n",
        "* met: 파트너를 스피드 데이팅 이벤트 이전에 만난 적이 있는지 여부"
      ],
      "metadata": {
        "id": "Nhm97f8dywfb"
      }
    },
    {
      "cell_type": "code",
      "source": [
        "pd.options.display.float_format = \"{:.2f}\".format\n",
        "df.describe() # 연속형 변수"
      ],
      "metadata": {
        "id": "ZdovZtq80H-R"
      },
      "execution_count": null,
      "outputs": []
    },
    {
      "cell_type": "code",
      "source": [
        "df.describe(include='O')"
      ],
      "metadata": {
        "colab": {
          "base_uri": "https://localhost:8080/",
          "height": 175
        },
        "id": "znIbJNrw0gDP",
        "outputId": "07e01ddf-53c0-4c57-f4d8-8d72ce2f3fec"
      },
      "execution_count": null,
      "outputs": [
        {
          "output_type": "execute_result",
          "data": {
            "text/plain": [
              "       gender                         race                       race_o\n",
              "count    8378                         8315                         8305\n",
              "unique      2                            5                            5\n",
              "top      male  European/Caucasian-American  European/Caucasian-American\n",
              "freq     4194                         4727                         4722"
            ],
            "text/html": [
              "\n",
              "  <div id=\"df-32a11dfb-8478-499f-b975-9cd39fbb7a17\">\n",
              "    <div class=\"colab-df-container\">\n",
              "      <div>\n",
              "<style scoped>\n",
              "    .dataframe tbody tr th:only-of-type {\n",
              "        vertical-align: middle;\n",
              "    }\n",
              "\n",
              "    .dataframe tbody tr th {\n",
              "        vertical-align: top;\n",
              "    }\n",
              "\n",
              "    .dataframe thead th {\n",
              "        text-align: right;\n",
              "    }\n",
              "</style>\n",
              "<table border=\"1\" class=\"dataframe\">\n",
              "  <thead>\n",
              "    <tr style=\"text-align: right;\">\n",
              "      <th></th>\n",
              "      <th>gender</th>\n",
              "      <th>race</th>\n",
              "      <th>race_o</th>\n",
              "    </tr>\n",
              "  </thead>\n",
              "  <tbody>\n",
              "    <tr>\n",
              "      <th>count</th>\n",
              "      <td>8378</td>\n",
              "      <td>8315</td>\n",
              "      <td>8305</td>\n",
              "    </tr>\n",
              "    <tr>\n",
              "      <th>unique</th>\n",
              "      <td>2</td>\n",
              "      <td>5</td>\n",
              "      <td>5</td>\n",
              "    </tr>\n",
              "    <tr>\n",
              "      <th>top</th>\n",
              "      <td>male</td>\n",
              "      <td>European/Caucasian-American</td>\n",
              "      <td>European/Caucasian-American</td>\n",
              "    </tr>\n",
              "    <tr>\n",
              "      <th>freq</th>\n",
              "      <td>4194</td>\n",
              "      <td>4727</td>\n",
              "      <td>4722</td>\n",
              "    </tr>\n",
              "  </tbody>\n",
              "</table>\n",
              "</div>\n",
              "      <button class=\"colab-df-convert\" onclick=\"convertToInteractive('df-32a11dfb-8478-499f-b975-9cd39fbb7a17')\"\n",
              "              title=\"Convert this dataframe to an interactive table.\"\n",
              "              style=\"display:none;\">\n",
              "        \n",
              "  <svg xmlns=\"http://www.w3.org/2000/svg\" height=\"24px\"viewBox=\"0 0 24 24\"\n",
              "       width=\"24px\">\n",
              "    <path d=\"M0 0h24v24H0V0z\" fill=\"none\"/>\n",
              "    <path d=\"M18.56 5.44l.94 2.06.94-2.06 2.06-.94-2.06-.94-.94-2.06-.94 2.06-2.06.94zm-11 1L8.5 8.5l.94-2.06 2.06-.94-2.06-.94L8.5 2.5l-.94 2.06-2.06.94zm10 10l.94 2.06.94-2.06 2.06-.94-2.06-.94-.94-2.06-.94 2.06-2.06.94z\"/><path d=\"M17.41 7.96l-1.37-1.37c-.4-.4-.92-.59-1.43-.59-.52 0-1.04.2-1.43.59L10.3 9.45l-7.72 7.72c-.78.78-.78 2.05 0 2.83L4 21.41c.39.39.9.59 1.41.59.51 0 1.02-.2 1.41-.59l7.78-7.78 2.81-2.81c.8-.78.8-2.07 0-2.86zM5.41 20L4 18.59l7.72-7.72 1.47 1.35L5.41 20z\"/>\n",
              "  </svg>\n",
              "      </button>\n",
              "      \n",
              "  <style>\n",
              "    .colab-df-container {\n",
              "      display:flex;\n",
              "      flex-wrap:wrap;\n",
              "      gap: 12px;\n",
              "    }\n",
              "\n",
              "    .colab-df-convert {\n",
              "      background-color: #E8F0FE;\n",
              "      border: none;\n",
              "      border-radius: 50%;\n",
              "      cursor: pointer;\n",
              "      display: none;\n",
              "      fill: #1967D2;\n",
              "      height: 32px;\n",
              "      padding: 0 0 0 0;\n",
              "      width: 32px;\n",
              "    }\n",
              "\n",
              "    .colab-df-convert:hover {\n",
              "      background-color: #E2EBFA;\n",
              "      box-shadow: 0px 1px 2px rgba(60, 64, 67, 0.3), 0px 1px 3px 1px rgba(60, 64, 67, 0.15);\n",
              "      fill: #174EA6;\n",
              "    }\n",
              "\n",
              "    [theme=dark] .colab-df-convert {\n",
              "      background-color: #3B4455;\n",
              "      fill: #D2E3FC;\n",
              "    }\n",
              "\n",
              "    [theme=dark] .colab-df-convert:hover {\n",
              "      background-color: #434B5C;\n",
              "      box-shadow: 0px 1px 3px 1px rgba(0, 0, 0, 0.15);\n",
              "      filter: drop-shadow(0px 1px 2px rgba(0, 0, 0, 0.3));\n",
              "      fill: #FFFFFF;\n",
              "    }\n",
              "  </style>\n",
              "\n",
              "      <script>\n",
              "        const buttonEl =\n",
              "          document.querySelector('#df-32a11dfb-8478-499f-b975-9cd39fbb7a17 button.colab-df-convert');\n",
              "        buttonEl.style.display =\n",
              "          google.colab.kernel.accessAllowed ? 'block' : 'none';\n",
              "\n",
              "        async function convertToInteractive(key) {\n",
              "          const element = document.querySelector('#df-32a11dfb-8478-499f-b975-9cd39fbb7a17');\n",
              "          const dataTable =\n",
              "            await google.colab.kernel.invokeFunction('convertToInteractive',\n",
              "                                                     [key], {});\n",
              "          if (!dataTable) return;\n",
              "\n",
              "          const docLinkHtml = 'Like what you see? Visit the ' +\n",
              "            '<a target=\"_blank\" href=https://colab.research.google.com/notebooks/data_table.ipynb>data table notebook</a>'\n",
              "            + ' to learn more about interactive tables.';\n",
              "          element.innerHTML = '';\n",
              "          dataTable['output_type'] = 'display_data';\n",
              "          await google.colab.output.renderOutput(dataTable, element);\n",
              "          const docLink = document.createElement('div');\n",
              "          docLink.innerHTML = docLinkHtml;\n",
              "          element.appendChild(docLink);\n",
              "        }\n",
              "      </script>\n",
              "    </div>\n",
              "  </div>\n",
              "  "
            ]
          },
          "metadata": {},
          "execution_count": 5
        }
      ]
    },
    {
      "cell_type": "markdown",
      "source": [
        "# 전처리"
      ],
      "metadata": {
        "id": "tuZmPYNW0s0Q"
      }
    },
    {
      "cell_type": "markdown",
      "source": [
        "## 결측치"
      ],
      "metadata": {
        "id": "ePzd3uaU0xSR"
      }
    },
    {
      "cell_type": "code",
      "source": [
        "# 오름차순 (행방향=데이터 커지는 방향)\n",
        "# 내림차순 (행방향=데이터 작아지는 방향)"
      ],
      "metadata": {
        "colab": {
          "base_uri": "https://localhost:8080/"
        },
        "id": "WPHaaz_Q0r5T",
        "outputId": "facddea8-7d80-466d-84ff-ce7756bf5da3"
      },
      "execution_count": null,
      "outputs": [
        {
          "output_type": "execute_result",
          "data": {
            "text/plain": [
              "expected_num_interested_in_me   0.79\n",
              "shared_interests_o              0.13\n",
              "shared_interests_partner        0.13\n",
              "ambitous_o                      0.09\n",
              "ambition_partner                0.08\n",
              "met                             0.04\n",
              "funny_o                         0.04\n",
              "funny_partner                   0.04\n",
              "guess_prob_liked                0.04\n",
              "intelligence_o                  0.04\n",
              "intelligence_partner            0.04\n",
              "sincere_o                       0.03\n",
              "sincere_partner                 0.03\n",
              "like                            0.03\n",
              "attractive_o                    0.03\n",
              "attractive_partner              0.02\n",
              "interests_correlate             0.02\n",
              "pref_o_shared_interests         0.02\n",
              "shared_interests_important      0.01\n",
              "pref_o_ambitious                0.01\n",
              "age_o                           0.01\n",
              "expected_happy_with_sd_people   0.01\n",
              "ambtition_important             0.01\n",
              "pref_o_funny                    0.01\n",
              "age                             0.01\n",
              "pref_o_sincere                  0.01\n",
              "pref_o_attractive               0.01\n",
              "funny_important                 0.01\n",
              "pref_o_intelligence             0.01\n",
              "attractive_important            0.01\n",
              "intellicence_important          0.01\n",
              "sincere_important               0.01\n",
              "importance_same_religion        0.01\n",
              "importance_same_race            0.01\n",
              "race_o                          0.01\n",
              "race                            0.01\n",
              "has_null                        0.00\n",
              "gender                          0.00\n",
              "match                           0.00\n",
              "dtype: float64"
            ]
          },
          "metadata": {},
          "execution_count": 6
        }
      ]
    },
    {
      "cell_type": "code",
      "source": [
        "# na를 다 drop하는 게 아니라, 특정한 열 결측치가 있을 경우만 행을 삭제\n",
        "# subset = [결측치가 있다면 행을 삭제할 열들 이름]\n",
        "# 일부 변수에서 결측치 제거\n",
        "# df.dropna -> 전체 결측치 제거\n",
        "# subset -> 특정 열이 결측치일 경우에 제거\n"
      ],
      "metadata": {
        "id": "j_eRJyd71Vdp"
      },
      "execution_count": null,
      "outputs": []
    },
    {
      "cell_type": "code",
      "source": [],
      "metadata": {
        "colab": {
          "base_uri": "https://localhost:8080/"
        },
        "id": "IAT8X11A2Bea",
        "outputId": "7909d278-ad4d-47ad-e8b9-e707ceb5e0f8"
      },
      "execution_count": null,
      "outputs": [
        {
          "output_type": "execute_result",
          "data": {
            "text/plain": [
              "expected_num_interested_in_me   0.79\n",
              "shared_interests_o              0.13\n",
              "shared_interests_partner        0.13\n",
              "ambitous_o                      0.08\n",
              "ambition_partner                0.08\n",
              "met                             0.04\n",
              "funny_o                         0.04\n",
              "funny_partner                   0.04\n",
              "guess_prob_liked                0.04\n",
              "intelligence_o                  0.03\n",
              "intelligence_partner            0.03\n",
              "sincere_o                       0.03\n",
              "sincere_partner                 0.03\n",
              "like                            0.03\n",
              "attractive_partner              0.02\n",
              "attractive_o                    0.02\n",
              "age_o                           0.00\n",
              "age                             0.00\n",
              "expected_happy_with_sd_people   0.00\n",
              "funny_important                 0.00\n",
              "interests_correlate             0.00\n",
              "shared_interests_important      0.00\n",
              "ambtition_important             0.00\n",
              "has_null                        0.00\n",
              "intellicence_important          0.00\n",
              "sincere_important               0.00\n",
              "attractive_important            0.00\n",
              "gender                          0.00\n",
              "pref_o_shared_interests         0.00\n",
              "pref_o_ambitious                0.00\n",
              "pref_o_funny                    0.00\n",
              "pref_o_intelligence             0.00\n",
              "pref_o_sincere                  0.00\n",
              "pref_o_attractive               0.00\n",
              "importance_same_religion        0.00\n",
              "importance_same_race            0.00\n",
              "race_o                          0.00\n",
              "race                            0.00\n",
              "match                           0.00\n",
              "dtype: float64"
            ]
          },
          "metadata": {},
          "execution_count": 8
        }
      ]
    },
    {
      "cell_type": "code",
      "source": [
        "# 결측치를 모두 -99로 채워주기\n"
      ],
      "metadata": {
        "id": "bqJ2c8lp2LIM"
      },
      "execution_count": null,
      "outputs": []
    },
    {
      "cell_type": "code",
      "source": [
        "# 결측치 처리 완료\n"
      ],
      "metadata": {
        "colab": {
          "base_uri": "https://localhost:8080/"
        },
        "id": "bOF9BiMZ2V_6",
        "outputId": "e613d849-66cd-414d-fc07-fbddcaccfb88"
      },
      "execution_count": null,
      "outputs": [
        {
          "output_type": "execute_result",
          "data": {
            "text/plain": [
              "has_null                        0.00\n",
              "funny_partner                   0.00\n",
              "intellicence_important          0.00\n",
              "funny_important                 0.00\n",
              "ambtition_important             0.00\n",
              "shared_interests_important      0.00\n",
              "attractive_partner              0.00\n",
              "sincere_partner                 0.00\n",
              "intelligence_partner            0.00\n",
              "ambition_partner                0.00\n",
              "attractive_important            0.00\n",
              "shared_interests_partner        0.00\n",
              "interests_correlate             0.00\n",
              "expected_happy_with_sd_people   0.00\n",
              "expected_num_interested_in_me   0.00\n",
              "like                            0.00\n",
              "guess_prob_liked                0.00\n",
              "met                             0.00\n",
              "sincere_important               0.00\n",
              "shared_interests_o              0.00\n",
              "gender                          0.00\n",
              "pref_o_sincere                  0.00\n",
              "age                             0.00\n",
              "age_o                           0.00\n",
              "race                            0.00\n",
              "race_o                          0.00\n",
              "importance_same_race            0.00\n",
              "importance_same_religion        0.00\n",
              "pref_o_attractive               0.00\n",
              "pref_o_intelligence             0.00\n",
              "ambitous_o                      0.00\n",
              "pref_o_funny                    0.00\n",
              "pref_o_ambitious                0.00\n",
              "pref_o_shared_interests         0.00\n",
              "attractive_o                    0.00\n",
              "sincere_o                       0.00\n",
              "intelligence_o                  0.00\n",
              "funny_o                         0.00\n",
              "match                           0.00\n",
              "dtype: float64"
            ]
          },
          "metadata": {},
          "execution_count": 10
        }
      ]
    },
    {
      "cell_type": "code",
      "source": [
        "# 결측치만 채운 상태에서 XGBoost로 모델링 결과\n",
        "# -> 피처 엔지니어링을 통해서 변수를 변형/추가 했을 경우에 결과\n",
        "# 16.4% 성사 확률 (1)\n",
        "# 83.5% 서로 안맞을 확률 (0)\n",
        "# -> 안맞는다고만 해도 83%"
      ],
      "metadata": {
        "colab": {
          "base_uri": "https://localhost:8080/"
        },
        "id": "5y-O6mr52qyN",
        "outputId": "e149f7dd-b37b-412a-82fc-7e25fd07b3ae"
      },
      "execution_count": null,
      "outputs": [
        {
          "output_type": "execute_result",
          "data": {
            "text/plain": [
              "0.8351783517835178"
            ]
          },
          "metadata": {},
          "execution_count": 11
        }
      ]
    },
    {
      "cell_type": "markdown",
      "source": [
        "## 피처 엔지니어링 없이 모델링"
      ],
      "metadata": {
        "id": "DifwGcbC3VKI"
      }
    },
    {
      "cell_type": "code",
      "source": [],
      "metadata": {
        "id": "jJc5HQg-3Rt8"
      },
      "execution_count": null,
      "outputs": []
    },
    {
      "cell_type": "code",
      "source": [],
      "metadata": {
        "colab": {
          "base_uri": "https://localhost:8080/"
        },
        "id": "rJ1XTrLk3T0j",
        "outputId": "5a06e161-d080-4c1c-aee6-07b19e479b65"
      },
      "execution_count": null,
      "outputs": [
        {
          "output_type": "execute_result",
          "data": {
            "text/plain": [
              "Index(['gender', 'race', 'race_o'], dtype='object')"
            ]
          },
          "metadata": {},
          "execution_count": 13
        }
      ]
    },
    {
      "cell_type": "code",
      "source": [],
      "metadata": {
        "colab": {
          "base_uri": "https://localhost:8080/"
        },
        "id": "ZMJtY_jl3ieQ",
        "outputId": "06808043-547d-462e-df4f-39b569ac1e1d"
      },
      "execution_count": null,
      "outputs": [
        {
          "output_type": "stream",
          "name": "stdout",
          "text": [
            "<class 'pandas.core.frame.DataFrame'>\n",
            "Int64Index: 8130 entries, 0 to 8377\n",
            "Data columns (total 48 columns):\n",
            " #   Column                                       Non-Null Count  Dtype  \n",
            "---  ------                                       --------------  -----  \n",
            " 0   has_null                                     8130 non-null   int64  \n",
            " 1   age                                          8130 non-null   float64\n",
            " 2   age_o                                        8130 non-null   float64\n",
            " 3   importance_same_race                         8130 non-null   float64\n",
            " 4   importance_same_religion                     8130 non-null   float64\n",
            " 5   pref_o_attractive                            8130 non-null   float64\n",
            " 6   pref_o_sincere                               8130 non-null   float64\n",
            " 7   pref_o_intelligence                          8130 non-null   float64\n",
            " 8   pref_o_funny                                 8130 non-null   float64\n",
            " 9   pref_o_ambitious                             8130 non-null   float64\n",
            " 10  pref_o_shared_interests                      8130 non-null   float64\n",
            " 11  attractive_o                                 8130 non-null   float64\n",
            " 12  sincere_o                                    8130 non-null   float64\n",
            " 13  intelligence_o                               8130 non-null   float64\n",
            " 14  funny_o                                      8130 non-null   float64\n",
            " 15  ambitous_o                                   8130 non-null   float64\n",
            " 16  shared_interests_o                           8130 non-null   float64\n",
            " 17  attractive_important                         8130 non-null   float64\n",
            " 18  sincere_important                            8130 non-null   float64\n",
            " 19  intellicence_important                       8130 non-null   float64\n",
            " 20  funny_important                              8130 non-null   float64\n",
            " 21  ambtition_important                          8130 non-null   float64\n",
            " 22  shared_interests_important                   8130 non-null   float64\n",
            " 23  attractive_partner                           8130 non-null   float64\n",
            " 24  sincere_partner                              8130 non-null   float64\n",
            " 25  intelligence_partner                         8130 non-null   float64\n",
            " 26  funny_partner                                8130 non-null   float64\n",
            " 27  ambition_partner                             8130 non-null   float64\n",
            " 28  shared_interests_partner                     8130 non-null   float64\n",
            " 29  interests_correlate                          8130 non-null   float64\n",
            " 30  expected_happy_with_sd_people                8130 non-null   float64\n",
            " 31  expected_num_interested_in_me                8130 non-null   float64\n",
            " 32  like                                         8130 non-null   float64\n",
            " 33  guess_prob_liked                             8130 non-null   float64\n",
            " 34  met                                          8130 non-null   float64\n",
            " 35  match                                        8130 non-null   int64  \n",
            " 36  gender_female                                8130 non-null   uint8  \n",
            " 37  gender_male                                  8130 non-null   uint8  \n",
            " 38  race_Asian/PacificIslander/Asian-American    8130 non-null   uint8  \n",
            " 39  race_Black/AfricanAmerican                   8130 non-null   uint8  \n",
            " 40  race_European/Caucasian-American             8130 non-null   uint8  \n",
            " 41  race_Latino/HispanicAmerican                 8130 non-null   uint8  \n",
            " 42  race_Other                                   8130 non-null   uint8  \n",
            " 43  race_o_Asian/PacificIslander/Asian-American  8130 non-null   uint8  \n",
            " 44  race_o_Black/AfricanAmerican                 8130 non-null   uint8  \n",
            " 45  race_o_European/Caucasian-American           8130 non-null   uint8  \n",
            " 46  race_o_Latino/HispanicAmerican               8130 non-null   uint8  \n",
            " 47  race_o_Other                                 8130 non-null   uint8  \n",
            "dtypes: float64(34), int64(2), uint8(12)\n",
            "memory usage: 2.4 MB\n"
          ]
        }
      ]
    },
    {
      "cell_type": "code",
      "source": [],
      "metadata": {
        "id": "VwYu09s_3pFP"
      },
      "execution_count": null,
      "outputs": []
    },
    {
      "cell_type": "code",
      "source": [],
      "metadata": {
        "id": "jj_hz_Rb3tih"
      },
      "execution_count": null,
      "outputs": []
    },
    {
      "cell_type": "code",
      "source": [
        "import xgboost as xgb"
      ],
      "metadata": {
        "id": "aW00bMN836wC"
      },
      "execution_count": null,
      "outputs": []
    },
    {
      "cell_type": "code",
      "source": [],
      "metadata": {
        "id": "Ee9qYN3I3_hY"
      },
      "execution_count": null,
      "outputs": []
    },
    {
      "cell_type": "code",
      "source": [],
      "metadata": {
        "colab": {
          "base_uri": "https://localhost:8080/"
        },
        "id": "1wa6-8Z44F2i",
        "outputId": "c8096ac4-73df-44e9-c6fe-195fa5ff8426"
      },
      "execution_count": null,
      "outputs": [
        {
          "output_type": "execute_result",
          "data": {
            "text/plain": [
              "XGBClassifier(random_state=23)"
            ]
          },
          "metadata": {},
          "execution_count": 19
        }
      ]
    },
    {
      "cell_type": "code",
      "source": [],
      "metadata": {
        "colab": {
          "base_uri": "https://localhost:8080/"
        },
        "id": "Uj9ZdnO-4JEa",
        "outputId": "7cd0094a-3b19-4ffc-d896-2c0a7616c834"
      },
      "execution_count": null,
      "outputs": [
        {
          "output_type": "execute_result",
          "data": {
            "text/plain": [
              "array([0, 0, 0, ..., 0, 0, 0])"
            ]
          },
          "metadata": {},
          "execution_count": 20
        }
      ]
    },
    {
      "cell_type": "code",
      "source": [],
      "metadata": {
        "colab": {
          "base_uri": "https://localhost:8080/"
        },
        "id": "s_boKeRL90pO",
        "outputId": "f0981d5e-1ab2-4cba-e231-7dc1ae971517"
      },
      "execution_count": null,
      "outputs": [
        {
          "output_type": "execute_result",
          "data": {
            "text/plain": [
              "array([0, 0, 0, ..., 1, 0, 0])"
            ]
          },
          "metadata": {},
          "execution_count": 21
        }
      ]
    },
    {
      "cell_type": "code",
      "source": [],
      "metadata": {
        "id": "VrAr4DhYg769"
      },
      "execution_count": null,
      "outputs": []
    },
    {
      "cell_type": "code",
      "source": [],
      "metadata": {
        "colab": {
          "base_uri": "https://localhost:8080/"
        },
        "id": "k3WWLwi-94ps",
        "outputId": "f530b587-c920-4552-cb9c-1757931d3ab2"
      },
      "execution_count": null,
      "outputs": [
        {
          "output_type": "execute_result",
          "data": {
            "text/plain": [
              "0.8842250922509225"
            ]
          },
          "metadata": {},
          "execution_count": 23
        }
      ]
    },
    {
      "cell_type": "code",
      "source": [],
      "metadata": {
        "colab": {
          "base_uri": "https://localhost:8080/"
        },
        "id": "fh1wpU3W4Nv6",
        "outputId": "b7328cd1-8398-4c4d-811b-ade9acc63cc2"
      },
      "execution_count": null,
      "outputs": [
        {
          "output_type": "execute_result",
          "data": {
            "text/plain": [
              "0.8499384993849939"
            ]
          },
          "metadata": {},
          "execution_count": 24
        }
      ]
    },
    {
      "cell_type": "code",
      "source": [
        "from sklearn.metrics import confusion_matrix\n",
        "\n",
        "# 오른쪽 위 : 1종 오류 - 실제 틀린데 (0) 맞다고 예측 (1) - 68\n",
        "# 왼쪽 아래 : 2종 오류 - 실제 맞는데 (1) 틀리다고 예측 (0) - 147\n",
        "print(confusion_matrix(y_test, pred))\n",
        "cf_matrix = confusion_matrix(y_test,pred)\n",
        "cf_matrix\n",
        "group_names = ['TN','FP','FN','TP']\n",
        "group_counts = [\"{0:0.0f}\".format(value) for value in\n",
        "                cf_matrix.flatten()]\n",
        "group_percentages = [\"{0:.2%}\".format(value) for value in\n",
        "                     cf_matrix.flatten()/np.sum(cf_matrix)]\n",
        "labels = [f\"{v1}\\n{v2}\\n{v3}\" for v1, v2, v3 in\n",
        "          zip(group_names,group_counts,group_percentages)]\n",
        "labels = np.asarray(labels).reshape(2,2)\n",
        "sns.heatmap(cf_matrix, annot=labels, fmt='', cmap='coolwarm')\n",
        "plt.ylabel('True')\n",
        "plt.xlabel('Predicted')\n",
        "plt.show()\n",
        "# TP(양성을 양성으로 판단)\n",
        "# FN(양성을 음성으로 판단) -> 2종 오류 (맞는데 틀리다고)\n",
        "# FP(음성을 양성으로 판단) -> 1종 오류 (틀린데 맞다고)\n",
        "# TN(음성을 음성으로 판단)"
      ],
      "metadata": {
        "colab": {
          "base_uri": "https://localhost:8080/",
          "height": 315
        },
        "id": "Xp7XW2HO4U3J",
        "outputId": "bf74cf3f-d608-4a23-a10d-2d46f28113cd"
      },
      "execution_count": null,
      "outputs": [
        {
          "output_type": "stream",
          "name": "stdout",
          "text": [
            "[[1285   42]\n",
            " [ 202   97]]\n"
          ]
        },
        {
          "output_type": "display_data",
          "data": {
            "text/plain": [
              "<Figure size 432x288 with 2 Axes>"
            ],
            "image/png": "[encoded data removed]"
          },
          "metadata": {
            "needs_background": "light"
          }
        }
      ]
    },
    {
      "cell_type": "markdown",
      "source": [
        "## 피처 엔지니어링\n",
        "* 피처 (Feature, 특징) : 독립변수\n",
        "* 엔지니어링 : 가공을 해서 더 유의미하게 만들겠다\n",
        "---\n",
        "* Titanic -> Name => Title\n",
        "* 단위 -> 통일"
      ],
      "metadata": {
        "id": "br7-xAVo-DZG"
      }
    },
    {
      "cell_type": "markdown",
      "source": [
        "### age_gap"
      ],
      "metadata": {
        "id": "37-nGmll-gD2"
      }
    },
    {
      "cell_type": "code",
      "source": [
        "df.columns"
      ],
      "metadata": {
        "colab": {
          "base_uri": "https://localhost:8080/"
        },
        "id": "rq69h0fD-jKa",
        "outputId": "d194bb46-c9ab-4994-b048-fac994562f3d"
      },
      "execution_count": null,
      "outputs": [
        {
          "output_type": "execute_result",
          "data": {
            "text/plain": [
              "Index(['has_null', 'gender', 'age', 'age_o', 'race', 'race_o',\n",
              "       'importance_same_race', 'importance_same_religion', 'pref_o_attractive',\n",
              "       'pref_o_sincere', 'pref_o_intelligence', 'pref_o_funny',\n",
              "       'pref_o_ambitious', 'pref_o_shared_interests', 'attractive_o',\n",
              "       'sincere_o', 'intelligence_o', 'funny_o', 'ambitous_o',\n",
              "       'shared_interests_o', 'attractive_important', 'sincere_important',\n",
              "       'intellicence_important', 'funny_important', 'ambtition_important',\n",
              "       'shared_interests_important', 'attractive_partner', 'sincere_partner',\n",
              "       'intelligence_partner', 'funny_partner', 'ambition_partner',\n",
              "       'shared_interests_partner', 'interests_correlate',\n",
              "       'expected_happy_with_sd_people', 'expected_num_interested_in_me',\n",
              "       'like', 'guess_prob_liked', 'met', 'match'],\n",
              "      dtype='object')"
            ]
          },
          "metadata": {},
          "execution_count": 26
        }
      ]
    },
    {
      "cell_type": "code",
      "source": [
        "# age : 본인의 나, age_o : 상대방의 나이\n"
      ],
      "metadata": {
        "colab": {
          "base_uri": "https://localhost:8080/"
        },
        "id": "WCVc-S7G-pER",
        "outputId": "33fb5da0-90d7-454b-bc47-475b08a74d60"
      },
      "execution_count": null,
      "outputs": [
        {
          "output_type": "stream",
          "name": "stdout",
          "text": [
            "0.002706027060270603\n",
            "0.002706027060270603\n"
          ]
        }
      ]
    },
    {
      "cell_type": "code",
      "source": [
        "# male : 남성 / female : 여성"
      ],
      "metadata": {
        "colab": {
          "base_uri": "https://localhost:8080/"
        },
        "id": "wLYB_unvAZlS",
        "outputId": "b7fa356c-faa9-4324-9d18-7d0319a2904a"
      },
      "execution_count": null,
      "outputs": [
        {
          "output_type": "execute_result",
          "data": {
            "text/plain": [
              "array(['female', 'male'], dtype=object)"
            ]
          },
          "metadata": {},
          "execution_count": 28
        }
      ]
    },
    {
      "cell_type": "code",
      "source": [
        "# 1. 내 나이가 결측치일 경우 -> 결측치\n",
        "# 2. 상대방의 나이가 결측치일 경우 -> 결측치\n",
        "# 3. 상대방과 내 나이가 모두 있을 경우 (차이를 구할 수 있음)\n",
        "# 3-1. (내가 남성) : 상대방과 나이 차이 -> 내 나이에서 상대방 나이를 빼고\n",
        "# 3-2. (... 여성) : 상대방과 나이 차이 -> 상대방 나이에서 내 나이를 빼는 방식\n",
        "# df.apply(..., axis=1) -> 특정 행의 전체 열\n",
        "# df.age = 본인 나이, df.age_o = 상대방 나이\n",
        "def age_gap(row):\n",
        "    # 1. 내 나이가 결측치(-99)일 경우\n",
        "    if row.age == -99: return -99 # return => 함수가 뒤를 더 이상 처리 X\n",
        "    # 2. 상대방 나이가 ...\n",
        "    if row.age_o == -99: return -99\n",
        "    # 3-1. 남성일 경우 -> 내 나이 - 상대방 나이\n",
        "    if row.gender == 'male': return row.age - row.age_o\n",
        "    # 3-2. 여성일 경우 -> 상대방 나이 - 내 나이\n",
        "    if row.gender == 'female': return row.age_o - row.age\n",
        "    # 나머지 값은 X"
      ],
      "metadata": {
        "id": "9tzKhTVc_QSr"
      },
      "execution_count": null,
      "outputs": []
    },
    {
      "cell_type": "code",
      "source": [
        "# 행을 기준으로 모든 열을 사용해주려면..."
      ],
      "metadata": {
        "colab": {
          "base_uri": "https://localhost:8080/"
        },
        "id": "AJ4n_RpsA4PG",
        "outputId": "a2c204cb-6bb6-42ae-bf20-4379629f2446"
      },
      "execution_count": null,
      "outputs": [
        {
          "output_type": "stream",
          "name": "stderr",
          "text": [
            "<ipython-input-30-8f81cf550e64>:1: SettingWithCopyWarning: \n",
            "A value is trying to be set on a copy of a slice from a DataFrame.\n",
            "Try using .loc[row_indexer,col_indexer] = value instead\n",
            "\n",
            "See the caveats in the documentation: https://pandas.pydata.org/pandas-docs/stable/user_guide/indexing.html#returning-a-view-versus-a-copy\n",
            "  df['age_gap'] = df.apply(age_gap, axis=1) # 행을 기준으로 모든 열을 사용해주려면...\n"
          ]
        }
      ]
    },
    {
      "cell_type": "code",
      "source": [
        "# 나이 차이 + 성별간의 차이\n"
      ],
      "metadata": {
        "colab": {
          "base_uri": "https://localhost:8080/"
        },
        "id": "T3MB-1U0BGkK",
        "outputId": "bb809405-f425-49dd-e752-9a943422a339"
      },
      "execution_count": null,
      "outputs": [
        {
          "output_type": "execute_result",
          "data": {
            "text/plain": [
              "0   6.00\n",
              "1   1.00\n",
              "2   1.00\n",
              "3   2.00\n",
              "4   3.00\n",
              "Name: age_gap, dtype: float64"
            ]
          },
          "metadata": {},
          "execution_count": 31
        }
      ]
    },
    {
      "cell_type": "code",
      "source": [
        "# abs : 절대값 -> 성별의 영향 없이 진짜 나이 차이만 보겠다\n",
        "def age_gap_abs(row):\n",
        "    # 1. 내 나이가 결측치(-99)일 경우\n",
        "    if row.age == -99: return -99 # return => 함수가 뒤를 더 이상 처리 X\n",
        "    # 2. 상대방 나이가 ...\n",
        "    if row.age_o == -99: return -99\n",
        "    # 3. 둘 사이의 차이를 abs() -> 절대값으로 나타내기\n",
        "    return abs(row.age - row.age_o)"
      ],
      "metadata": {
        "id": "xJpy3mmnBUDT"
      },
      "execution_count": null,
      "outputs": []
    },
    {
      "cell_type": "code",
      "source": [
        "# 행을 기준으로 모든 열을 사용해주려면..."
      ],
      "metadata": {
        "colab": {
          "base_uri": "https://localhost:8080/"
        },
        "id": "XOsIByz_Bhg8",
        "outputId": "98a10ecf-826f-4e1e-da7b-2236110bff3d"
      },
      "execution_count": null,
      "outputs": [
        {
          "output_type": "stream",
          "name": "stderr",
          "text": [
            "<ipython-input-33-078ffd45d7ba>:1: SettingWithCopyWarning: \n",
            "A value is trying to be set on a copy of a slice from a DataFrame.\n",
            "Try using .loc[row_indexer,col_indexer] = value instead\n",
            "\n",
            "See the caveats in the documentation: https://pandas.pydata.org/pandas-docs/stable/user_guide/indexing.html#returning-a-view-versus-a-copy\n",
            "  df['age_gap_abs'] = df.apply(age_gap_abs, axis=1) # 행을 기준으로 모든 열을 사용해주려면...\n"
          ]
        }
      ]
    },
    {
      "cell_type": "code",
      "source": [
        "# 나이 + 성별"
      ],
      "metadata": {
        "colab": {
          "base_uri": "https://localhost:8080/"
        },
        "id": "7e8wVNieBk0L",
        "outputId": "51850330-c7a5-46af-bf4a-01ca6bd74729"
      },
      "execution_count": null,
      "outputs": [
        {
          "output_type": "execute_result",
          "data": {
            "text/plain": [
              "array([  6.,   1.,   2.,   3.,   4.,   9.,   7.,  -2.,  -1.,   0.,  -3.,\n",
              "         5.,   8.,  -4.,  -5.,  -6.,  -7.,  -8.,  -9., -12., -13., -10.,\n",
              "        17.,  10.,  16.,  13.,  12.,  11.,  14., -14., -11.,  18.,  15.,\n",
              "        19.,  20., -16., -15., -22., -28., -32., -99.])"
            ]
          },
          "metadata": {},
          "execution_count": 34
        }
      ]
    },
    {
      "cell_type": "code",
      "source": [
        "# 나이"
      ],
      "metadata": {
        "colab": {
          "base_uri": "https://localhost:8080/"
        },
        "id": "-3O-jY71BolR",
        "outputId": "9b695101-bff9-40b6-80f2-569c16e32af0"
      },
      "execution_count": null,
      "outputs": [
        {
          "output_type": "execute_result",
          "data": {
            "text/plain": [
              "array([  6.,   1.,   2.,   3.,   4.,   9.,   7.,   0.,   5.,   8.,  12.,\n",
              "        13.,  10.,  17.,  16.,  11.,  14.,  18.,  15.,  19.,  20.,  22.,\n",
              "        28.,  32., -99.])"
            ]
          },
          "metadata": {},
          "execution_count": 35
        }
      ]
    },
    {
      "cell_type": "markdown",
      "source": [
        "### race"
      ],
      "metadata": {
        "id": "3zOrJ0mUB1af"
      }
    },
    {
      "cell_type": "code",
      "source": [
        "# 내 인종\n"
      ],
      "metadata": {
        "colab": {
          "base_uri": "https://localhost:8080/"
        },
        "id": "senWyRLwCBlm",
        "outputId": "3e8c7ee3-ca1b-4153-a8b4-57b0979b19e7"
      },
      "execution_count": null,
      "outputs": [
        {
          "output_type": "execute_result",
          "data": {
            "text/plain": [
              "European/Caucasian-American             4629\n",
              "Asian/PacificIslander/Asian-American    1946\n",
              "Latino/HispanicAmerican                  631\n",
              "Other                                    513\n",
              "Black/AfricanAmerican                    411\n",
              "Name: race, dtype: int64"
            ]
          },
          "metadata": {},
          "execution_count": 36
        }
      ]
    },
    {
      "cell_type": "code",
      "source": [
        "# 상대방 인종\n"
      ],
      "metadata": {
        "colab": {
          "base_uri": "https://localhost:8080/"
        },
        "id": "hTDMY3upCNJm",
        "outputId": "e344cae3-7bd4-4a26-f11f-6ec46b91f239"
      },
      "execution_count": null,
      "outputs": [
        {
          "output_type": "execute_result",
          "data": {
            "text/plain": [
              "European/Caucasian-American             4629\n",
              "Asian/PacificIslander/Asian-American    1946\n",
              "Latino/HispanicAmerican                  631\n",
              "Other                                    513\n",
              "Black/AfricanAmerican                    411\n",
              "Name: race_o, dtype: int64"
            ]
          },
          "metadata": {},
          "execution_count": 37
        }
      ]
    },
    {
      "cell_type": "code",
      "source": [
        "# 1. 인종이 일치하나?\n",
        "# 2. 일치 여부에 따라서 중요도를 곱해서 점수화\n",
        "# df.race : 내 인종\n",
        "# df.race_o : 상대방 인종\n",
        "# df.apply(..., axis=1) 특정 행의 모든 열의 데이터를 조회\n",
        "def same_race(row):\n",
        "    # 결측치 (-99)\n",
        "    if row.race == -99 or row.race_o == -99: return -99\n",
        "    if row.race == row.race_o: return 1\n",
        "    return -1\n",
        "    # 삼항연산자\n",
        "    # {조건을 만족시켰을 때의 결과값} if {조건} else {만족X 결과값}\n",
        "    # return 1 if row.race == row.race_o else -1"
      ],
      "metadata": {
        "id": "xo71uO89CTRk"
      },
      "execution_count": null,
      "outputs": []
    },
    {
      "cell_type": "code",
      "source": [],
      "metadata": {
        "colab": {
          "base_uri": "https://localhost:8080/"
        },
        "id": "_9CcV4nHDpdN",
        "outputId": "5ff9faaf-bdbf-4ada-e29d-67bd2d314c62"
      },
      "execution_count": null,
      "outputs": [
        {
          "output_type": "stream",
          "name": "stderr",
          "text": [
            "<ipython-input-39-14bcb61b2ee3>:1: SettingWithCopyWarning: \n",
            "A value is trying to be set on a copy of a slice from a DataFrame.\n",
            "Try using .loc[row_indexer,col_indexer] = value instead\n",
            "\n",
            "See the caveats in the documentation: https://pandas.pydata.org/pandas-docs/stable/user_guide/indexing.html#returning-a-view-versus-a-copy\n",
            "  df['same_race'] = df.apply(same_race, axis=1)\n"
          ]
        }
      ]
    },
    {
      "cell_type": "code",
      "source": [],
      "metadata": {
        "colab": {
          "base_uri": "https://localhost:8080/"
        },
        "id": "DttBJ3-WDx5a",
        "outputId": "89f6905b-3838-4169-82f2-720d435f3f6a"
      },
      "execution_count": null,
      "outputs": [
        {
          "output_type": "execute_result",
          "data": {
            "text/plain": [
              "-1    4844\n",
              " 1    3286\n",
              "Name: same_race, dtype: int64"
            ]
          },
          "metadata": {},
          "execution_count": 40
        }
      ]
    },
    {
      "cell_type": "code",
      "source": [],
      "metadata": {
        "colab": {
          "base_uri": "https://localhost:8080/"
        },
        "id": "2biPjYv-D4V9",
        "outputId": "7f688b84-17a1-44df-b3a7-9abe3217662b"
      },
      "execution_count": null,
      "outputs": [
        {
          "output_type": "execute_result",
          "data": {
            "text/plain": [
              "1.00     2749\n",
              "3.00      964\n",
              "2.00      938\n",
              "5.00      644\n",
              "8.00      631\n",
              "7.00      536\n",
              "6.00      516\n",
              "4.00      494\n",
              "9.00      404\n",
              "10.00     246\n",
              "0.00        8\n",
              "Name: importance_same_race, dtype: int64"
            ]
          },
          "metadata": {},
          "execution_count": 41
        }
      ]
    },
    {
      "cell_type": "code",
      "source": [],
      "metadata": {
        "colab": {
          "base_uri": "https://localhost:8080/"
        },
        "id": "o7MRvukUECQI",
        "outputId": "1cf36456-f6e4-4c4c-ed42-7f2abef3ee5d"
      },
      "execution_count": null,
      "outputs": [
        {
          "output_type": "execute_result",
          "data": {
            "text/plain": [
              "0.12601626016260162"
            ]
          },
          "metadata": {},
          "execution_count": 42
        }
      ]
    },
    {
      "cell_type": "code",
      "source": [
        "def same_race_point(row):\n",
        "    if row.same_race == -99: return -99\n",
        "    return row.same_race * row.importance_same_race"
      ],
      "metadata": {
        "id": "c9YW1Pr0EQYK"
      },
      "execution_count": null,
      "outputs": []
    },
    {
      "cell_type": "code",
      "source": [],
      "metadata": {
        "colab": {
          "base_uri": "https://localhost:8080/"
        },
        "id": "spSUxnBTEeBM",
        "outputId": "f9ca2ce3-b939-498c-ac74-6f99b54e4c35"
      },
      "execution_count": null,
      "outputs": [
        {
          "output_type": "stream",
          "name": "stderr",
          "text": [
            "<ipython-input-44-9027ec13be1c>:1: SettingWithCopyWarning: \n",
            "A value is trying to be set on a copy of a slice from a DataFrame.\n",
            "Try using .loc[row_indexer,col_indexer] = value instead\n",
            "\n",
            "See the caveats in the documentation: https://pandas.pydata.org/pandas-docs/stable/user_guide/indexing.html#returning-a-view-versus-a-copy\n",
            "  df['same_race_point'] = df.apply(same_race_point, axis=1)\n"
          ]
        }
      ]
    },
    {
      "cell_type": "code",
      "source": [],
      "metadata": {
        "colab": {
          "base_uri": "https://localhost:8080/"
        },
        "id": "PuiPThsEEh0L",
        "outputId": "2f2eb99e-2641-4da7-f08f-5209abde1b57"
      },
      "execution_count": null,
      "outputs": [
        {
          "output_type": "execute_result",
          "data": {
            "text/plain": [
              "-1.00     1765\n",
              "1.00       984\n",
              "-3.00      611\n",
              "-2.00      575\n",
              "2.00       363\n",
              "-5.00      354\n",
              "3.00       353\n",
              "8.00       321\n",
              "-6.00      316\n",
              "-7.00      312\n",
              "-8.00      310\n",
              "5.00       290\n",
              "-4.00      272\n",
              "7.00       224\n",
              "4.00       222\n",
              "-9.00      211\n",
              "6.00       200\n",
              "9.00       193\n",
              "10.00      130\n",
              "-10.00     116\n",
              "0.00         8\n",
              "Name: same_race_point, dtype: int64"
            ]
          },
          "metadata": {},
          "execution_count": 45
        }
      ]
    },
    {
      "cell_type": "code",
      "source": [],
      "metadata": {
        "colab": {
          "base_uri": "https://localhost:8080/"
        },
        "id": "-2w5p0KQEoPm",
        "outputId": "6962deca-340d-4403-c936-b058821e5286"
      },
      "execution_count": null,
      "outputs": [
        {
          "output_type": "execute_result",
          "data": {
            "text/plain": [
              "0.17692307692307693"
            ]
          },
          "metadata": {},
          "execution_count": 46
        }
      ]
    },
    {
      "cell_type": "code",
      "source": [],
      "metadata": {
        "colab": {
          "base_uri": "https://localhost:8080/"
        },
        "id": "IYL9ZjJlErbu",
        "outputId": "c6380709-3a57-4439-f195-ced90fc9ddfd"
      },
      "execution_count": null,
      "outputs": [
        {
          "output_type": "execute_result",
          "data": {
            "text/plain": [
              "0.06896551724137931"
            ]
          },
          "metadata": {},
          "execution_count": 47
        }
      ]
    },
    {
      "cell_type": "code",
      "source": [],
      "metadata": {
        "colab": {
          "base_uri": "https://localhost:8080/"
        },
        "id": "Alzpm43tEylU",
        "outputId": "6b2575b2-c1e7-490d-b031-1c9250e4a9d5"
      },
      "execution_count": null,
      "outputs": [
        {
          "output_type": "execute_result",
          "data": {
            "text/plain": [
              "                                      race  \\\n",
              "0     Asian/PacificIslander/Asian-American   \n",
              "1     Asian/PacificIslander/Asian-American   \n",
              "2     Asian/PacificIslander/Asian-American   \n",
              "3     Asian/PacificIslander/Asian-American   \n",
              "4     Asian/PacificIslander/Asian-American   \n",
              "...                                    ...   \n",
              "8372           European/Caucasian-American   \n",
              "8373           European/Caucasian-American   \n",
              "8374           European/Caucasian-American   \n",
              "8376           European/Caucasian-American   \n",
              "8377           European/Caucasian-American   \n",
              "\n",
              "                                    race_o  same_race  importance_same_race  \\\n",
              "0              European/Caucasian-American         -1                  2.00   \n",
              "1              European/Caucasian-American         -1                  2.00   \n",
              "2     Asian/PacificIslander/Asian-American          1                  2.00   \n",
              "3              European/Caucasian-American         -1                  2.00   \n",
              "4                  Latino/HispanicAmerican         -1                  2.00   \n",
              "...                                    ...        ...                   ...   \n",
              "8372           European/Caucasian-American          1                  1.00   \n",
              "8373               Latino/HispanicAmerican         -1                  1.00   \n",
              "8374                                 Other         -1                  1.00   \n",
              "8376  Asian/PacificIslander/Asian-American         -1                  1.00   \n",
              "8377  Asian/PacificIslander/Asian-American         -1                  1.00   \n",
              "\n",
              "      same_race_point  \n",
              "0               -2.00  \n",
              "1               -2.00  \n",
              "2                2.00  \n",
              "3               -2.00  \n",
              "4               -2.00  \n",
              "...               ...  \n",
              "8372             1.00  \n",
              "8373            -1.00  \n",
              "8374            -1.00  \n",
              "8376            -1.00  \n",
              "8377            -1.00  \n",
              "\n",
              "[8130 rows x 5 columns]"
            ],
            "text/html": [
              "\n",
              "  <div id=\"df-2e3a62a7-6dfb-4927-912f-1ef3378ce950\">\n",
              "    <div class=\"colab-df-container\">\n",
              "      <div>\n",
              "<style scoped>\n",
              "    .dataframe tbody tr th:only-of-type {\n",
              "        vertical-align: middle;\n",
              "    }\n",
              "\n",
              "    .dataframe tbody tr th {\n",
              "        vertical-align: top;\n",
              "    }\n",
              "\n",
              "    .dataframe thead th {\n",
              "        text-align: right;\n",
              "    }\n",
              "</style>\n",
              "<table border=\"1\" class=\"dataframe\">\n",
              "  <thead>\n",
              "    <tr style=\"text-align: right;\">\n",
              "      <th></th>\n",
              "      <th>race</th>\n",
              "      <th>race_o</th>\n",
              "      <th>same_race</th>\n",
              "      <th>importance_same_race</th>\n",
              "      <th>same_race_point</th>\n",
              "    </tr>\n",
              "  </thead>\n",
              "  <tbody>\n",
              "    <tr>\n",
              "      <th>0</th>\n",
              "      <td>Asian/PacificIslander/Asian-American</td>\n",
              "      <td>European/Caucasian-American</td>\n",
              "      <td>-1</td>\n",
              "      <td>2.00</td>\n",
              "      <td>-2.00</td>\n",
              "    </tr>\n",
              "    <tr>\n",
              "      <th>1</th>\n",
              "      <td>Asian/PacificIslander/Asian-American</td>\n",
              "      <td>European/Caucasian-American</td>\n",
              "      <td>-1</td>\n",
              "      <td>2.00</td>\n",
              "      <td>-2.00</td>\n",
              "    </tr>\n",
              "    <tr>\n",
              "      <th>2</th>\n",
              "      <td>Asian/PacificIslander/Asian-American</td>\n",
              "      <td>Asian/PacificIslander/Asian-American</td>\n",
              "      <td>1</td>\n",
              "      <td>2.00</td>\n",
              "      <td>2.00</td>\n",
              "    </tr>\n",
              "    <tr>\n",
              "      <th>3</th>\n",
              "      <td>Asian/PacificIslander/Asian-American</td>\n",
              "      <td>European/Caucasian-American</td>\n",
              "      <td>-1</td>\n",
              "      <td>2.00</td>\n",
              "      <td>-2.00</td>\n",
              "    </tr>\n",
              "    <tr>\n",
              "      <th>4</th>\n",
              "      <td>Asian/PacificIslander/Asian-American</td>\n",
              "      <td>Latino/HispanicAmerican</td>\n",
              "      <td>-1</td>\n",
              "      <td>2.00</td>\n",
              "      <td>-2.00</td>\n",
              "    </tr>\n",
              "    <tr>\n",
              "      <th>...</th>\n",
              "      <td>...</td>\n",
              "      <td>...</td>\n",
              "      <td>...</td>\n",
              "      <td>...</td>\n",
              "      <td>...</td>\n",
              "    </tr>\n",
              "    <tr>\n",
              "      <th>8372</th>\n",
              "      <td>European/Caucasian-American</td>\n",
              "      <td>European/Caucasian-American</td>\n",
              "      <td>1</td>\n",
              "      <td>1.00</td>\n",
              "      <td>1.00</td>\n",
              "    </tr>\n",
              "    <tr>\n",
              "      <th>8373</th>\n",
              "      <td>European/Caucasian-American</td>\n",
              "      <td>Latino/HispanicAmerican</td>\n",
              "      <td>-1</td>\n",
              "      <td>1.00</td>\n",
              "      <td>-1.00</td>\n",
              "    </tr>\n",
              "    <tr>\n",
              "      <th>8374</th>\n",
              "      <td>European/Caucasian-American</td>\n",
              "      <td>Other</td>\n",
              "      <td>-1</td>\n",
              "      <td>1.00</td>\n",
              "      <td>-1.00</td>\n",
              "    </tr>\n",
              "    <tr>\n",
              "      <th>8376</th>\n",
              "      <td>European/Caucasian-American</td>\n",
              "      <td>Asian/PacificIslander/Asian-American</td>\n",
              "      <td>-1</td>\n",
              "      <td>1.00</td>\n",
              "      <td>-1.00</td>\n",
              "    </tr>\n",
              "    <tr>\n",
              "      <th>8377</th>\n",
              "      <td>European/Caucasian-American</td>\n",
              "      <td>Asian/PacificIslander/Asian-American</td>\n",
              "      <td>-1</td>\n",
              "      <td>1.00</td>\n",
              "      <td>-1.00</td>\n",
              "    </tr>\n",
              "  </tbody>\n",
              "</table>\n",
              "<p>8130 rows × 5 columns</p>\n",
              "</div>\n",
              "      <button class=\"colab-df-convert\" onclick=\"convertToInteractive('df-2e3a62a7-6dfb-4927-912f-1ef3378ce950')\"\n",
              "              title=\"Convert this dataframe to an interactive table.\"\n",
              "              style=\"display:none;\">\n",
              "        \n",
              "  <svg xmlns=\"http://www.w3.org/2000/svg\" height=\"24px\"viewBox=\"0 0 24 24\"\n",
              "       width=\"24px\">\n",
              "    <path d=\"M0 0h24v24H0V0z\" fill=\"none\"/>\n",
              "    <path d=\"M18.56 5.44l.94 2.06.94-2.06 2.06-.94-2.06-.94-.94-2.06-.94 2.06-2.06.94zm-11 1L8.5 8.5l.94-2.06 2.06-.94-2.06-.94L8.5 2.5l-.94 2.06-2.06.94zm10 10l.94 2.06.94-2.06 2.06-.94-2.06-.94-.94-2.06-.94 2.06-2.06.94z\"/><path d=\"M17.41 7.96l-1.37-1.37c-.4-.4-.92-.59-1.43-.59-.52 0-1.04.2-1.43.59L10.3 9.45l-7.72 7.72c-.78.78-.78 2.05 0 2.83L4 21.41c.39.39.9.59 1.41.59.51 0 1.02-.2 1.41-.59l7.78-7.78 2.81-2.81c.8-.78.8-2.07 0-2.86zM5.41 20L4 18.59l7.72-7.72 1.47 1.35L5.41 20z\"/>\n",
              "  </svg>\n",
              "      </button>\n",
              "      \n",
              "  <style>\n",
              "    .colab-df-container {\n",
              "      display:flex;\n",
              "      flex-wrap:wrap;\n",
              "      gap: 12px;\n",
              "    }\n",
              "\n",
              "    .colab-df-convert {\n",
              "      background-color: #E8F0FE;\n",
              "      border: none;\n",
              "      border-radius: 50%;\n",
              "      cursor: pointer;\n",
              "      display: none;\n",
              "      fill: #1967D2;\n",
              "      height: 32px;\n",
              "      padding: 0 0 0 0;\n",
              "      width: 32px;\n",
              "    }\n",
              "\n",
              "    .colab-df-convert:hover {\n",
              "      background-color: #E2EBFA;\n",
              "      box-shadow: 0px 1px 2px rgba(60, 64, 67, 0.3), 0px 1px 3px 1px rgba(60, 64, 67, 0.15);\n",
              "      fill: #174EA6;\n",
              "    }\n",
              "\n",
              "    [theme=dark] .colab-df-convert {\n",
              "      background-color: #3B4455;\n",
              "      fill: #D2E3FC;\n",
              "    }\n",
              "\n",
              "    [theme=dark] .colab-df-convert:hover {\n",
              "      background-color: #434B5C;\n",
              "      box-shadow: 0px 1px 3px 1px rgba(0, 0, 0, 0.15);\n",
              "      filter: drop-shadow(0px 1px 2px rgba(0, 0, 0, 0.3));\n",
              "      fill: #FFFFFF;\n",
              "    }\n",
              "  </style>\n",
              "\n",
              "      <script>\n",
              "        const buttonEl =\n",
              "          document.querySelector('#df-2e3a62a7-6dfb-4927-912f-1ef3378ce950 button.colab-df-convert');\n",
              "        buttonEl.style.display =\n",
              "          google.colab.kernel.accessAllowed ? 'block' : 'none';\n",
              "\n",
              "        async function convertToInteractive(key) {\n",
              "          const element = document.querySelector('#df-2e3a62a7-6dfb-4927-912f-1ef3378ce950');\n",
              "          const dataTable =\n",
              "            await google.colab.kernel.invokeFunction('convertToInteractive',\n",
              "                                                     [key], {});\n",
              "          if (!dataTable) return;\n",
              "\n",
              "          const docLinkHtml = 'Like what you see? Visit the ' +\n",
              "            '<a target=\"_blank\" href=https://colab.research.google.com/notebooks/data_table.ipynb>data table notebook</a>'\n",
              "            + ' to learn more about interactive tables.';\n",
              "          element.innerHTML = '';\n",
              "          dataTable['output_type'] = 'display_data';\n",
              "          await google.colab.output.renderOutput(dataTable, element);\n",
              "          const docLink = document.createElement('div');\n",
              "          docLink.innerHTML = docLinkHtml;\n",
              "          element.appendChild(docLink);\n",
              "        }\n",
              "      </script>\n",
              "    </div>\n",
              "  </div>\n",
              "  "
            ]
          },
          "metadata": {},
          "execution_count": 48
        }
      ]
    },
    {
      "cell_type": "markdown",
      "source": [
        "### importance & score\n",
        "* 어느 영역을 중요하게 여기는가? 그것에 대한 점수"
      ],
      "metadata": {
        "id": "tY_3bEbVZq-i"
      }
    },
    {
      "cell_type": "code",
      "source": [],
      "metadata": {
        "colab": {
          "base_uri": "https://localhost:8080/"
        },
        "id": "N1diqs25ZzoB",
        "outputId": "10d63404-e00d-4c7f-fbb4-e8b8bca14072"
      },
      "execution_count": null,
      "outputs": [
        {
          "output_type": "execute_result",
          "data": {
            "text/plain": [
              "Index(['has_null', 'gender', 'age', 'age_o', 'race', 'race_o',\n",
              "       'importance_same_race', 'importance_same_religion', 'pref_o_attractive',\n",
              "       'pref_o_sincere', 'pref_o_intelligence', 'pref_o_funny',\n",
              "       'pref_o_ambitious', 'pref_o_shared_interests', 'attractive_o',\n",
              "       'sincere_o', 'intelligence_o', 'funny_o', 'ambitous_o',\n",
              "       'shared_interests_o', 'attractive_important', 'sincere_important',\n",
              "       'intellicence_important', 'funny_important', 'ambtition_important',\n",
              "       'shared_interests_important', 'attractive_partner', 'sincere_partner',\n",
              "       'intelligence_partner', 'funny_partner', 'ambition_partner',\n",
              "       'shared_interests_partner', 'interests_correlate',\n",
              "       'expected_happy_with_sd_people', 'expected_num_interested_in_me',\n",
              "       'like', 'guess_prob_liked', 'met', 'match', 'age_gap', 'age_gap_abs',\n",
              "       'same_race', 'same_race_point'],\n",
              "      dtype='object')"
            ]
          },
          "metadata": {},
          "execution_count": 49
        }
      ]
    },
    {
      "cell_type": "code",
      "source": [
        "# A : 나, B : 상대방\n",
        "# 상대방의 선호도 (8~13)\n",
        "# B가 특정한 영역에 대해서 얼마나 선호하는지"
      ],
      "metadata": {
        "colab": {
          "base_uri": "https://localhost:8080/"
        },
        "id": "KT-HzjnLZ_Gk",
        "outputId": "51a056df-f812-4297-f41d-5646695727ac"
      },
      "execution_count": null,
      "outputs": [
        {
          "output_type": "execute_result",
          "data": {
            "text/plain": [
              "Index(['pref_o_attractive', 'pref_o_sincere', 'pref_o_intelligence',\n",
              "       'pref_o_funny', 'pref_o_ambitious', 'pref_o_shared_interests'],\n",
              "      dtype='object')"
            ]
          },
          "metadata": {},
          "execution_count": 50
        }
      ]
    },
    {
      "cell_type": "code",
      "source": [
        "# 본인에 대한 상대방의 평가 (14~19)\n",
        "# 나(A)에 대한 상대방(B)의 평가\n",
        "# => 나에 대한 상대방의 특정 영역에 대한 점수"
      ],
      "metadata": {
        "colab": {
          "base_uri": "https://localhost:8080/"
        },
        "id": "Il2skxVkaQ2_",
        "outputId": "f9c13e6a-b49f-4138-e2d0-824beaf0b2f9"
      },
      "execution_count": null,
      "outputs": [
        {
          "output_type": "execute_result",
          "data": {
            "text/plain": [
              "Index(['attractive_o', 'sincere_o', 'intelligence_o', 'funny_o', 'ambitous_o',\n",
              "       'shared_interests_o'],\n",
              "      dtype='object')"
            ]
          },
          "metadata": {},
          "execution_count": 51
        }
      ]
    },
    {
      "cell_type": "code",
      "source": [
        "# 나(본인)의 선호도, 중요도 (20~25)\n",
        "# A(나)가 특정한 영역에 대해서 얼마나 중요히 여기는지"
      ],
      "metadata": {
        "colab": {
          "base_uri": "https://localhost:8080/"
        },
        "id": "3zW3Rg9LaojG",
        "outputId": "c2c181c0-e627-43a5-b30e-99595a4a69fd"
      },
      "execution_count": null,
      "outputs": [
        {
          "output_type": "execute_result",
          "data": {
            "text/plain": [
              "Index(['attractive_important', 'sincere_important', 'intellicence_important',\n",
              "       'funny_important', 'ambtition_important', 'shared_interests_important'],\n",
              "      dtype='object')"
            ]
          },
          "metadata": {},
          "execution_count": 52
        }
      ]
    },
    {
      "cell_type": "code",
      "source": [
        "# 상대방에 대한 본인의 평가\n",
        "# 상대방(B)에 대한 나(A)의 평가"
      ],
      "metadata": {
        "colab": {
          "base_uri": "https://localhost:8080/"
        },
        "id": "LcGZBb3cay35",
        "outputId": "3845a787-e471-4a6f-f49f-59ee221b788c"
      },
      "execution_count": null,
      "outputs": [
        {
          "output_type": "execute_result",
          "data": {
            "text/plain": [
              "Index(['attractive_partner', 'sincere_partner', 'intelligence_partner',\n",
              "       'funny_partner', 'ambition_partner', 'shared_interests_partner'],\n",
              "      dtype='object')"
            ]
          },
          "metadata": {},
          "execution_count": 53
        }
      ]
    },
    {
      "cell_type": "code",
      "source": [
        "print(f\"상대방의 선호도 : {df.columns[8:14].tolist()}\")\n",
        "print(f\"본인에 대한 상대방의 평가 : {df.columns[14:20].tolist()}\")\n",
        "print(f\"본인의 선호도 : {df.columns[20:26].tolist()}\")\n",
        "print(f\"상대방에 대한 본인의 평가 : {df.columns[26:32].tolist()}\")"
      ],
      "metadata": {
        "colab": {
          "base_uri": "https://localhost:8080/"
        },
        "id": "mr7yIGB0bA-v",
        "outputId": "2a5ee0eb-0b46-49ee-ecd0-f1924a46c61e"
      },
      "execution_count": null,
      "outputs": [
        {
          "output_type": "stream",
          "name": "stdout",
          "text": [
            "상대방의 선호도 : ['pref_o_attractive', 'pref_o_sincere', 'pref_o_intelligence', 'pref_o_funny', 'pref_o_ambitious', 'pref_o_shared_interests']\n",
            "본인에 대한 상대방의 평가 : ['attractive_o', 'sincere_o', 'intelligence_o', 'funny_o', 'ambitous_o', 'shared_interests_o']\n",
            "본인의 선호도 : ['attractive_important', 'sincere_important', 'intellicence_important', 'funny_important', 'ambtition_important', 'shared_interests_important']\n",
            "상대방에 대한 본인의 평가 : ['attractive_partner', 'sincere_partner', 'intelligence_partner', 'funny_partner', 'ambition_partner', 'shared_interests_partner']\n"
          ]
        }
      ]
    },
    {
      "cell_type": "code",
      "source": [
        "partner_imp = df.columns[8:14] # 상대방이 얼마나 중요하게 여기는지\n",
        "partner_rate_me = df.columns[14:20] # 나에 대한 상대방의 평가\n",
        "my_imp = df.columns[20:26] # 내가 얼마나 중요하게 여기는지\n",
        "my_rate_partner = df.columns[26:32] # 상대방에 대한 나의 평가"
      ],
      "metadata": {
        "id": "JuE2TUftbLbB"
      },
      "execution_count": null,
      "outputs": []
    },
    {
      "cell_type": "code",
      "source": [
        "# imp & rate => 평가(score)\n",
        "new_label_partner = ['attractive_p',\n",
        "                     'sincere_p',\n",
        "                     'intelligence_p',\n",
        "                     'funny_p',\n",
        "                     'ambitous_p',\n",
        "                     'shared_interests_p']\n",
        "# partner가 나에 대해 중요도 * 평가 -> 최종 평가\n",
        "new_label_me = ['attractive_m',\n",
        "                'sincere_m',\n",
        "                'intelligence_m',\n",
        "                'funny_m',\n",
        "                'ambitous_m',\n",
        "                'shared_interests_m']\n",
        "# 내가 상대방에 대해 중요도 * 평가 -> 최종 평가"
      ],
      "metadata": {
        "id": "nc_0m-YObj8f"
      },
      "execution_count": null,
      "outputs": []
    },
    {
      "cell_type": "code",
      "source": [
        "# 얼마나 중요한지, 평가 대상에 대한 점수\n",
        "# row -> importance : 중요도 열 이름, score : 평가 열 이름\n",
        "def rating(row, importance, score):\n",
        "    # 둘 중에 하나라도 결측치면? -> -99\n",
        "    if (row[importance] == -99) or (row[score] == -99): return -99\n",
        "    # 중요도 * 평가 => return\n",
        "    return row[importance] * row[score]"
      ],
      "metadata": {
        "id": "yE8Or5FicIFX"
      },
      "execution_count": null,
      "outputs": []
    },
    {
      "cell_type": "code",
      "source": [
        "# 평가 점수 열 이름, 중요도 열 이름 -> 새로운 라벨 열 이름\n",
        "# 파트너 -> 나\n",
        "for i, j, k in zip(new_label_partner, partner_imp, partner_rate_me):\n",
        "    print(f\"{i} & {j} & {k}\")"
      ],
      "metadata": {
        "colab": {
          "base_uri": "https://localhost:8080/"
        },
        "id": "U4mZudqGc1EP",
        "outputId": "a3dff1f4-caa7-4230-80a8-6e23b920d99e"
      },
      "execution_count": null,
      "outputs": [
        {
          "output_type": "stream",
          "name": "stdout",
          "text": [
            "attractive_p & pref_o_attractive & attractive_o\n",
            "sincere_p & pref_o_sincere & sincere_o\n",
            "intelligence_p & pref_o_intelligence & intelligence_o\n",
            "funny_p & pref_o_funny & funny_o\n",
            "ambitous_p & pref_o_ambitious & ambitous_o\n",
            "shared_interests_p & pref_o_shared_interests & shared_interests_o\n"
          ]
        }
      ]
    },
    {
      "cell_type": "code",
      "source": [
        "# 나 -> 파트너\n",
        "for i, j, k in zip(new_label_me, my_imp, my_rate_partner):\n",
        "    print(f\"{i} & {j} & {k}\")"
      ],
      "metadata": {
        "colab": {
          "base_uri": "https://localhost:8080/"
        },
        "id": "bShJCOgVdsWt",
        "outputId": "93eb28ac-01b9-4a88-88b6-7ff6c1f8bfea"
      },
      "execution_count": null,
      "outputs": [
        {
          "output_type": "stream",
          "name": "stdout",
          "text": [
            "attractive_m & attractive_important & attractive_partner\n",
            "sincere_m & sincere_important & sincere_partner\n",
            "intelligence_m & intellicence_important & intelligence_partner\n",
            "funny_m & funny_important & funny_partner\n",
            "ambitous_m & ambtition_important & ambition_partner\n",
            "shared_interests_m & shared_interests_important & shared_interests_partner\n"
          ]
        }
      ]
    },
    {
      "cell_type": "code",
      "source": [
        "# 파트너가 나에게 느끼는 점수\n",
        "for i, j, k in zip(new_label_partner, partner_imp, partner_rate_me):\n",
        "    # print(f\"{i} & {j} & {k}\")\n",
        "    # i : 새롭게 만들, 파트너가 내게 느끼는 중요도x점수\n",
        "    # j : 파트너가 중요하게 여기는 정도 (importance)\n",
        "    # k ; 나에 대한 파트너의 평가 (score)\n",
        "    # apply 내부는 -> 변수를 1개만 제공 (row)\n",
        ""
      ],
      "metadata": {
        "colab": {
          "base_uri": "https://localhost:8080/"
        },
        "id": "KCMSG1x7eBqg",
        "outputId": "346c72c5-7224-4c77-82b6-10f39a42afe3"
      },
      "execution_count": null,
      "outputs": [
        {
          "output_type": "stream",
          "name": "stderr",
          "text": [
            "<ipython-input-60-909abe6155bb>:8: SettingWithCopyWarning: \n",
            "A value is trying to be set on a copy of a slice from a DataFrame.\n",
            "Try using .loc[row_indexer,col_indexer] = value instead\n",
            "\n",
            "See the caveats in the documentation: https://pandas.pydata.org/pandas-docs/stable/user_guide/indexing.html#returning-a-view-versus-a-copy\n",
            "  df[i] = df.apply(lambda row: rating(row, j, k) , axis=1)\n"
          ]
        }
      ]
    },
    {
      "cell_type": "code",
      "source": [
        "df.head()"
      ],
      "metadata": {
        "colab": {
          "base_uri": "https://localhost:8080/"
        },
        "id": "DGCkMgCnenVH",
        "outputId": "1b3784ac-4e28-4a6b-91c0-f98ca9aaefc7"
      },
      "execution_count": null,
      "outputs": [
        {
          "output_type": "execute_result",
          "data": {
            "text/plain": [
              "   has_null  gender   age  age_o                                  race  \\\n",
              "0         0  female 21.00  27.00  Asian/PacificIslander/Asian-American   \n",
              "1         0  female 21.00  22.00  Asian/PacificIslander/Asian-American   \n",
              "2         1  female 21.00  22.00  Asian/PacificIslander/Asian-American   \n",
              "3         0  female 21.00  23.00  Asian/PacificIslander/Asian-American   \n",
              "4         0  female 21.00  24.00  Asian/PacificIslander/Asian-American   \n",
              "\n",
              "                                 race_o  importance_same_race  \\\n",
              "0           European/Caucasian-American                  2.00   \n",
              "1           European/Caucasian-American                  2.00   \n",
              "2  Asian/PacificIslander/Asian-American                  2.00   \n",
              "3           European/Caucasian-American                  2.00   \n",
              "4               Latino/HispanicAmerican                  2.00   \n",
              "\n",
              "   importance_same_religion  pref_o_attractive  pref_o_sincere  ...  age_gap  \\\n",
              "0                      4.00              35.00           20.00  ...     6.00   \n",
              "1                      4.00              60.00            0.00  ...     1.00   \n",
              "2                      4.00              19.00           18.00  ...     1.00   \n",
              "3                      4.00              30.00            5.00  ...     2.00   \n",
              "4                      4.00              30.00           10.00  ...     3.00   \n",
              "\n",
              "   age_gap_abs  same_race  same_race_point  attractive_p  sincere_p  \\\n",
              "0         6.00         -1            -2.00        210.00     160.00   \n",
              "1         1.00         -1            -2.00        420.00       0.00   \n",
              "2         1.00          1             2.00        190.00     180.00   \n",
              "3         2.00         -1            -2.00        210.00      40.00   \n",
              "4         3.00         -1            -2.00        240.00      70.00   \n",
              "\n",
              "   intelligence_p  funny_p  ambitous_p  shared_interests_p  \n",
              "0          160.00   160.00        0.00               30.00  \n",
              "1            0.00   280.00        0.00                0.00  \n",
              "2          190.00   180.00      140.00              120.00  \n",
              "3          135.00   320.00       45.00               40.00  \n",
              "4          180.00    60.00       90.00              140.00  \n",
              "\n",
              "[5 rows x 49 columns]"
            ],
            "text/html": [
              "\n",
              "  <div id=\"df-d6550c43-ab67-4908-8603-5253ecf8c273\">\n",
              "    <div class=\"colab-df-container\">\n",
              "      <div>\n",
              "<style scoped>\n",
              "    .dataframe tbody tr th:only-of-type {\n",
              "        vertical-align: middle;\n",
              "    }\n",
              "\n",
              "    .dataframe tbody tr th {\n",
              "        vertical-align: top;\n",
              "    }\n",
              "\n",
              "    .dataframe thead th {\n",
              "        text-align: right;\n",
              "    }\n",
              "</style>\n",
              "<table border=\"1\" class=\"dataframe\">\n",
              "  <thead>\n",
              "    <tr style=\"text-align: right;\">\n",
              "      <th></th>\n",
              "      <th>has_null</th>\n",
              "      <th>gender</th>\n",
              "      <th>age</th>\n",
              "      <th>age_o</th>\n",
              "      <th>race</th>\n",
              "      <th>race_o</th>\n",
              "      <th>importance_same_race</th>\n",
              "      <th>importance_same_religion</th>\n",
              "      <th>pref_o_attractive</th>\n",
              "      <th>pref_o_sincere</th>\n",
              "      <th>...</th>\n",
              "      <th>age_gap</th>\n",
              "      <th>age_gap_abs</th>\n",
              "      <th>same_race</th>\n",
              "      <th>same_race_point</th>\n",
              "      <th>attractive_p</th>\n",
              "      <th>sincere_p</th>\n",
              "      <th>intelligence_p</th>\n",
              "      <th>funny_p</th>\n",
              "      <th>ambitous_p</th>\n",
              "      <th>shared_interests_p</th>\n",
              "    </tr>\n",
              "  </thead>\n",
              "  <tbody>\n",
              "    <tr>\n",
              "      <th>0</th>\n",
              "      <td>0</td>\n",
              "      <td>female</td>\n",
              "      <td>21.00</td>\n",
              "      <td>27.00</td>\n",
              "      <td>Asian/PacificIslander/Asian-American</td>\n",
              "      <td>European/Caucasian-American</td>\n",
              "      <td>2.00</td>\n",
              "      <td>4.00</td>\n",
              "      <td>35.00</td>\n",
              "      <td>20.00</td>\n",
              "      <td>...</td>\n",
              "      <td>6.00</td>\n",
              "      <td>6.00</td>\n",
              "      <td>-1</td>\n",
              "      <td>-2.00</td>\n",
              "      <td>210.00</td>\n",
              "      <td>160.00</td>\n",
              "      <td>160.00</td>\n",
              "      <td>160.00</td>\n",
              "      <td>0.00</td>\n",
              "      <td>30.00</td>\n",
              "    </tr>\n",
              "    <tr>\n",
              "      <th>1</th>\n",
              "      <td>0</td>\n",
              "      <td>female</td>\n",
              "      <td>21.00</td>\n",
              "      <td>22.00</td>\n",
              "      <td>Asian/PacificIslander/Asian-American</td>\n",
              "      <td>European/Caucasian-American</td>\n",
              "      <td>2.00</td>\n",
              "      <td>4.00</td>\n",
              "      <td>60.00</td>\n",
              "      <td>0.00</td>\n",
              "      <td>...</td>\n",
              "      <td>1.00</td>\n",
              "      <td>1.00</td>\n",
              "      <td>-1</td>\n",
              "      <td>-2.00</td>\n",
              "      <td>420.00</td>\n",
              "      <td>0.00</td>\n",
              "      <td>0.00</td>\n",
              "      <td>280.00</td>\n",
              "      <td>0.00</td>\n",
              "      <td>0.00</td>\n",
              "    </tr>\n",
              "    <tr>\n",
              "      <th>2</th>\n",
              "      <td>1</td>\n",
              "      <td>female</td>\n",
              "      <td>21.00</td>\n",
              "      <td>22.00</td>\n",
              "      <td>Asian/PacificIslander/Asian-American</td>\n",
              "      <td>Asian/PacificIslander/Asian-American</td>\n",
              "      <td>2.00</td>\n",
              "      <td>4.00</td>\n",
              "      <td>19.00</td>\n",
              "      <td>18.00</td>\n",
              "      <td>...</td>\n",
              "      <td>1.00</td>\n",
              "      <td>1.00</td>\n",
              "      <td>1</td>\n",
              "      <td>2.00</td>\n",
              "      <td>190.00</td>\n",
              "      <td>180.00</td>\n",
              "      <td>190.00</td>\n",
              "      <td>180.00</td>\n",
              "      <td>140.00</td>\n",
              "      <td>120.00</td>\n",
              "    </tr>\n",
              "    <tr>\n",
              "      <th>3</th>\n",
              "      <td>0</td>\n",
              "      <td>female</td>\n",
              "      <td>21.00</td>\n",
              "      <td>23.00</td>\n",
              "      <td>Asian/PacificIslander/Asian-American</td>\n",
              "      <td>European/Caucasian-American</td>\n",
              "      <td>2.00</td>\n",
              "      <td>4.00</td>\n",
              "      <td>30.00</td>\n",
              "      <td>5.00</td>\n",
              "      <td>...</td>\n",
              "      <td>2.00</td>\n",
              "      <td>2.00</td>\n",
              "      <td>-1</td>\n",
              "      <td>-2.00</td>\n",
              "      <td>210.00</td>\n",
              "      <td>40.00</td>\n",
              "      <td>135.00</td>\n",
              "      <td>320.00</td>\n",
              "      <td>45.00</td>\n",
              "      <td>40.00</td>\n",
              "    </tr>\n",
              "    <tr>\n",
              "      <th>4</th>\n",
              "      <td>0</td>\n",
              "      <td>female</td>\n",
              "      <td>21.00</td>\n",
              "      <td>24.00</td>\n",
              "      <td>Asian/PacificIslander/Asian-American</td>\n",
              "      <td>Latino/HispanicAmerican</td>\n",
              "      <td>2.00</td>\n",
              "      <td>4.00</td>\n",
              "      <td>30.00</td>\n",
              "      <td>10.00</td>\n",
              "      <td>...</td>\n",
              "      <td>3.00</td>\n",
              "      <td>3.00</td>\n",
              "      <td>-1</td>\n",
              "      <td>-2.00</td>\n",
              "      <td>240.00</td>\n",
              "      <td>70.00</td>\n",
              "      <td>180.00</td>\n",
              "      <td>60.00</td>\n",
              "      <td>90.00</td>\n",
              "      <td>140.00</td>\n",
              "    </tr>\n",
              "  </tbody>\n",
              "</table>\n",
              "<p>5 rows × 49 columns</p>\n",
              "</div>\n",
              "      <button class=\"colab-df-convert\" onclick=\"convertToInteractive('df-d6550c43-ab67-4908-8603-5253ecf8c273')\"\n",
              "              title=\"Convert this dataframe to an interactive table.\"\n",
              "              style=\"display:none;\">\n",
              "        \n",
              "  <svg xmlns=\"http://www.w3.org/2000/svg\" height=\"24px\"viewBox=\"0 0 24 24\"\n",
              "       width=\"24px\">\n",
              "    <path d=\"M0 0h24v24H0V0z\" fill=\"none\"/>\n",
              "    <path d=\"M18.56 5.44l.94 2.06.94-2.06 2.06-.94-2.06-.94-.94-2.06-.94 2.06-2.06.94zm-11 1L8.5 8.5l.94-2.06 2.06-.94-2.06-.94L8.5 2.5l-.94 2.06-2.06.94zm10 10l.94 2.06.94-2.06 2.06-.94-2.06-.94-.94-2.06-.94 2.06-2.06.94z\"/><path d=\"M17.41 7.96l-1.37-1.37c-.4-.4-.92-.59-1.43-.59-.52 0-1.04.2-1.43.59L10.3 9.45l-7.72 7.72c-.78.78-.78 2.05 0 2.83L4 21.41c.39.39.9.59 1.41.59.51 0 1.02-.2 1.41-.59l7.78-7.78 2.81-2.81c.8-.78.8-2.07 0-2.86zM5.41 20L4 18.59l7.72-7.72 1.47 1.35L5.41 20z\"/>\n",
              "  </svg>\n",
              "      </button>\n",
              "      \n",
              "  <style>\n",
              "    .colab-df-container {\n",
              "      display:flex;\n",
              "      flex-wrap:wrap;\n",
              "      gap: 12px;\n",
              "    }\n",
              "\n",
              "    .colab-df-convert {\n",
              "      background-color: #E8F0FE;\n",
              "      border: none;\n",
              "      border-radius: 50%;\n",
              "      cursor: pointer;\n",
              "      display: none;\n",
              "      fill: #1967D2;\n",
              "      height: 32px;\n",
              "      padding: 0 0 0 0;\n",
              "      width: 32px;\n",
              "    }\n",
              "\n",
              "    .colab-df-convert:hover {\n",
              "      background-color: #E2EBFA;\n",
              "      box-shadow: 0px 1px 2px rgba(60, 64, 67, 0.3), 0px 1px 3px 1px rgba(60, 64, 67, 0.15);\n",
              "      fill: #174EA6;\n",
              "    }\n",
              "\n",
              "    [theme=dark] .colab-df-convert {\n",
              "      background-color: #3B4455;\n",
              "      fill: #D2E3FC;\n",
              "    }\n",
              "\n",
              "    [theme=dark] .colab-df-convert:hover {\n",
              "      background-color: #434B5C;\n",
              "      box-shadow: 0px 1px 3px 1px rgba(0, 0, 0, 0.15);\n",
              "      filter: drop-shadow(0px 1px 2px rgba(0, 0, 0, 0.3));\n",
              "      fill: #FFFFFF;\n",
              "    }\n",
              "  </style>\n",
              "\n",
              "      <script>\n",
              "        const buttonEl =\n",
              "          document.querySelector('#df-d6550c43-ab67-4908-8603-5253ecf8c273 button.colab-df-convert');\n",
              "        buttonEl.style.display =\n",
              "          google.colab.kernel.accessAllowed ? 'block' : 'none';\n",
              "\n",
              "        async function convertToInteractive(key) {\n",
              "          const element = document.querySelector('#df-d6550c43-ab67-4908-8603-5253ecf8c273');\n",
              "          const dataTable =\n",
              "            await google.colab.kernel.invokeFunction('convertToInteractive',\n",
              "                                                     [key], {});\n",
              "          if (!dataTable) return;\n",
              "\n",
              "          const docLinkHtml = 'Like what you see? Visit the ' +\n",
              "            '<a target=\"_blank\" href=https://colab.research.google.com/notebooks/data_table.ipynb>data table notebook</a>'\n",
              "            + ' to learn more about interactive tables.';\n",
              "          element.innerHTML = '';\n",
              "          dataTable['output_type'] = 'display_data';\n",
              "          await google.colab.output.renderOutput(dataTable, element);\n",
              "          const docLink = document.createElement('div');\n",
              "          docLink.innerHTML = docLinkHtml;\n",
              "          element.appendChild(docLink);\n",
              "        }\n",
              "      </script>\n",
              "    </div>\n",
              "  </div>\n",
              "  "
            ]
          },
          "metadata": {},
          "execution_count": 61
        }
      ]
    },
    {
      "cell_type": "code",
      "source": [
        "# 내가 상대방에게 느끼는 점수\n",
        "for i, j, k in zip(new_label_me, my_imp, my_rate_partner):\n",
        "    # print(f\"{i} & {j} & {k}\")\n",
        "    # i : 새롭게 만들, 중요도x점수\n",
        "    # j : 중요하게 여기는 정도 (importance)\n",
        "    # k ; 평가 (score)\n",
        "    # apply 내부는 -> 변수를 1개만 제공 (row)\n",
        ""
      ],
      "metadata": {
        "colab": {
          "base_uri": "https://localhost:8080/"
        },
        "id": "rFPPy0dNeyNv",
        "outputId": "51c87941-c957-48f0-bd94-6c2fa669df07"
      },
      "execution_count": null,
      "outputs": [
        {
          "output_type": "stream",
          "name": "stderr",
          "text": [
            "<ipython-input-62-eca645f9409d>:8: SettingWithCopyWarning: \n",
            "A value is trying to be set on a copy of a slice from a DataFrame.\n",
            "Try using .loc[row_indexer,col_indexer] = value instead\n",
            "\n",
            "See the caveats in the documentation: https://pandas.pydata.org/pandas-docs/stable/user_guide/indexing.html#returning-a-view-versus-a-copy\n",
            "  df[i] = df.apply(lambda row: rating(row, j, k) , axis=1)\n"
          ]
        }
      ]
    },
    {
      "cell_type": "code",
      "source": [
        "df.columns"
      ],
      "metadata": {
        "colab": {
          "base_uri": "https://localhost:8080/"
        },
        "id": "LblqwJm9fEgO",
        "outputId": "efd86f37-398d-49e6-ef6b-daccb993e2fb"
      },
      "execution_count": null,
      "outputs": [
        {
          "output_type": "execute_result",
          "data": {
            "text/plain": [
              "Index(['has_null', 'gender', 'age', 'age_o', 'race', 'race_o',\n",
              "       'importance_same_race', 'importance_same_religion', 'pref_o_attractive',\n",
              "       'pref_o_sincere', 'pref_o_intelligence', 'pref_o_funny',\n",
              "       'pref_o_ambitious', 'pref_o_shared_interests', 'attractive_o',\n",
              "       'sincere_o', 'intelligence_o', 'funny_o', 'ambitous_o',\n",
              "       'shared_interests_o', 'attractive_important', 'sincere_important',\n",
              "       'intellicence_important', 'funny_important', 'ambtition_important',\n",
              "       'shared_interests_important', 'attractive_partner', 'sincere_partner',\n",
              "       'intelligence_partner', 'funny_partner', 'ambition_partner',\n",
              "       'shared_interests_partner', 'interests_correlate',\n",
              "       'expected_happy_with_sd_people', 'expected_num_interested_in_me',\n",
              "       'like', 'guess_prob_liked', 'met', 'match', 'age_gap', 'age_gap_abs',\n",
              "       'same_race', 'same_race_point', 'attractive_p', 'sincere_p',\n",
              "       'intelligence_p', 'funny_p', 'ambitous_p', 'shared_interests_p',\n",
              "       'attractive_m', 'sincere_m', 'intelligence_m', 'funny_m', 'ambitous_m',\n",
              "       'shared_interests_m'],\n",
              "      dtype='object')"
            ]
          },
          "metadata": {},
          "execution_count": 63
        }
      ]
    },
    {
      "cell_type": "markdown",
      "source": [
        "## 범주형 변수"
      ],
      "metadata": {
        "id": "fynb9DPGfKZK"
      }
    },
    {
      "cell_type": "code",
      "source": [],
      "metadata": {
        "id": "etA-MO3bfI4h",
        "colab": {
          "base_uri": "https://localhost:8080/"
        },
        "outputId": "fc61037d-784c-4aba-e074-c5e87460052d"
      },
      "execution_count": null,
      "outputs": [
        {
          "output_type": "execute_result",
          "data": {
            "text/plain": [
              "      has_null   age  age_o  importance_same_race  importance_same_religion  \\\n",
              "0            0 21.00  27.00                  2.00                      4.00   \n",
              "1            0 21.00  22.00                  2.00                      4.00   \n",
              "2            1 21.00  22.00                  2.00                      4.00   \n",
              "3            0 21.00  23.00                  2.00                      4.00   \n",
              "4            0 21.00  24.00                  2.00                      4.00   \n",
              "...        ...   ...    ...                   ...                       ...   \n",
              "8372         1 25.00  24.00                  1.00                      1.00   \n",
              "8373         1 25.00  26.00                  1.00                      1.00   \n",
              "8374         1 25.00  24.00                  1.00                      1.00   \n",
              "8376         1 25.00  22.00                  1.00                      1.00   \n",
              "8377         1 25.00  22.00                  1.00                      1.00   \n",
              "\n",
              "      pref_o_attractive  pref_o_sincere  pref_o_intelligence  pref_o_funny  \\\n",
              "0                 35.00           20.00                20.00         20.00   \n",
              "1                 60.00            0.00                 0.00         40.00   \n",
              "2                 19.00           18.00                19.00         18.00   \n",
              "3                 30.00            5.00                15.00         40.00   \n",
              "4                 30.00           10.00                20.00         10.00   \n",
              "...                 ...             ...                  ...           ...   \n",
              "8372              10.00           15.00                30.00         20.00   \n",
              "8373              10.00           10.00                30.00         20.00   \n",
              "8374              50.00           20.00                10.00          5.00   \n",
              "8376              10.00           25.00                25.00         10.00   \n",
              "8377              20.00           20.00                10.00         15.00   \n",
              "\n",
              "      pref_o_ambitious  ...  shared_interests_m  gender_male  \\\n",
              "0                 0.00  ...               75.00            0   \n",
              "1                 0.00  ...               90.00            0   \n",
              "2                14.00  ...              105.00            0   \n",
              "3                 5.00  ...              120.00            0   \n",
              "4                10.00  ...               90.00            0   \n",
              "...                ...  ...                 ...          ...   \n",
              "8372             15.00  ...              -99.00            1   \n",
              "8373             10.00  ...              -99.00            1   \n",
              "8374             10.00  ...              -99.00            1   \n",
              "8376             10.00  ...                0.00            1   \n",
              "8377              5.00  ...                0.00            1   \n",
              "\n",
              "      race_Black/AfricanAmerican  race_European/Caucasian-American  \\\n",
              "0                              0                                 0   \n",
              "1                              0                                 0   \n",
              "2                              0                                 0   \n",
              "3                              0                                 0   \n",
              "4                              0                                 0   \n",
              "...                          ...                               ...   \n",
              "8372                           0                                 1   \n",
              "8373                           0                                 1   \n",
              "8374                           0                                 1   \n",
              "8376                           0                                 1   \n",
              "8377                           0                                 1   \n",
              "\n",
              "      race_Latino/HispanicAmerican  race_Other  race_o_Black/AfricanAmerican  \\\n",
              "0                                0           0                             0   \n",
              "1                                0           0                             0   \n",
              "2                                0           0                             0   \n",
              "3                                0           0                             0   \n",
              "4                                0           0                             0   \n",
              "...                            ...         ...                           ...   \n",
              "8372                             0           0                             0   \n",
              "8373                             0           0                             0   \n",
              "8374                             0           0                             0   \n",
              "8376                             0           0                             0   \n",
              "8377                             0           0                             0   \n",
              "\n",
              "      race_o_European/Caucasian-American  race_o_Latino/HispanicAmerican  \\\n",
              "0                                      1                               0   \n",
              "1                                      1                               0   \n",
              "2                                      0                               0   \n",
              "3                                      1                               0   \n",
              "4                                      0                               1   \n",
              "...                                  ...                             ...   \n",
              "8372                                   1                               0   \n",
              "8373                                   0                               1   \n",
              "8374                                   0                               0   \n",
              "8376                                   0                               0   \n",
              "8377                                   0                               0   \n",
              "\n",
              "      race_o_Other  \n",
              "0                0  \n",
              "1                0  \n",
              "2                0  \n",
              "3                0  \n",
              "4                0  \n",
              "...            ...  \n",
              "8372             0  \n",
              "8373             0  \n",
              "8374             1  \n",
              "8376             0  \n",
              "8377             0  \n",
              "\n",
              "[8130 rows x 61 columns]"
            ],
            "text/html": [
              "\n",
              "  <div id=\"df-005fcb67-c3ed-4f46-8011-72c1ce296710\">\n",
              "    <div class=\"colab-df-container\">\n",
              "      <div>\n",
              "<style scoped>\n",
              "    .dataframe tbody tr th:only-of-type {\n",
              "        vertical-align: middle;\n",
              "    }\n",
              "\n",
              "    .dataframe tbody tr th {\n",
              "        vertical-align: top;\n",
              "    }\n",
              "\n",
              "    .dataframe thead th {\n",
              "        text-align: right;\n",
              "    }\n",
              "</style>\n",
              "<table border=\"1\" class=\"dataframe\">\n",
              "  <thead>\n",
              "    <tr style=\"text-align: right;\">\n",
              "      <th></th>\n",
              "      <th>has_null</th>\n",
              "      <th>age</th>\n",
              "      <th>age_o</th>\n",
              "      <th>importance_same_race</th>\n",
              "      <th>importance_same_religion</th>\n",
              "      <th>pref_o_attractive</th>\n",
              "      <th>pref_o_sincere</th>\n",
              "      <th>pref_o_intelligence</th>\n",
              "      <th>pref_o_funny</th>\n",
              "      <th>pref_o_ambitious</th>\n",
              "      <th>...</th>\n",
              "      <th>shared_interests_m</th>\n",
              "      <th>gender_male</th>\n",
              "      <th>race_Black/AfricanAmerican</th>\n",
              "      <th>race_European/Caucasian-American</th>\n",
              "      <th>race_Latino/HispanicAmerican</th>\n",
              "      <th>race_Other</th>\n",
              "      <th>race_o_Black/AfricanAmerican</th>\n",
              "      <th>race_o_European/Caucasian-American</th>\n",
              "      <th>race_o_Latino/HispanicAmerican</th>\n",
              "      <th>race_o_Other</th>\n",
              "    </tr>\n",
              "  </thead>\n",
              "  <tbody>\n",
              "    <tr>\n",
              "      <th>0</th>\n",
              "      <td>0</td>\n",
              "      <td>21.00</td>\n",
              "      <td>27.00</td>\n",
              "      <td>2.00</td>\n",
              "      <td>4.00</td>\n",
              "      <td>35.00</td>\n",
              "      <td>20.00</td>\n",
              "      <td>20.00</td>\n",
              "      <td>20.00</td>\n",
              "      <td>0.00</td>\n",
              "      <td>...</td>\n",
              "      <td>75.00</td>\n",
              "      <td>0</td>\n",
              "      <td>0</td>\n",
              "      <td>0</td>\n",
              "      <td>0</td>\n",
              "      <td>0</td>\n",
              "      <td>0</td>\n",
              "      <td>1</td>\n",
              "      <td>0</td>\n",
              "      <td>0</td>\n",
              "    </tr>\n",
              "    <tr>\n",
              "      <th>1</th>\n",
              "      <td>0</td>\n",
              "      <td>21.00</td>\n",
              "      <td>22.00</td>\n",
              "      <td>2.00</td>\n",
              "      <td>4.00</td>\n",
              "      <td>60.00</td>\n",
              "      <td>0.00</td>\n",
              "      <td>0.00</td>\n",
              "      <td>40.00</td>\n",
              "      <td>0.00</td>\n",
              "      <td>...</td>\n",
              "      <td>90.00</td>\n",
              "      <td>0</td>\n",
              "      <td>0</td>\n",
              "      <td>0</td>\n",
              "      <td>0</td>\n",
              "      <td>0</td>\n",
              "      <td>0</td>\n",
              "      <td>1</td>\n",
              "      <td>0</td>\n",
              "      <td>0</td>\n",
              "    </tr>\n",
              "    <tr>\n",
              "      <th>2</th>\n",
              "      <td>1</td>\n",
              "      <td>21.00</td>\n",
              "      <td>22.00</td>\n",
              "      <td>2.00</td>\n",
              "      <td>4.00</td>\n",
              "      <td>19.00</td>\n",
              "      <td>18.00</td>\n",
              "      <td>19.00</td>\n",
              "      <td>18.00</td>\n",
              "      <td>14.00</td>\n",
              "      <td>...</td>\n",
              "      <td>105.00</td>\n",
              "      <td>0</td>\n",
              "      <td>0</td>\n",
              "      <td>0</td>\n",
              "      <td>0</td>\n",
              "      <td>0</td>\n",
              "      <td>0</td>\n",
              "      <td>0</td>\n",
              "      <td>0</td>\n",
              "      <td>0</td>\n",
              "    </tr>\n",
              "    <tr>\n",
              "      <th>3</th>\n",
              "      <td>0</td>\n",
              "      <td>21.00</td>\n",
              "      <td>23.00</td>\n",
              "      <td>2.00</td>\n",
              "      <td>4.00</td>\n",
              "      <td>30.00</td>\n",
              "      <td>5.00</td>\n",
              "      <td>15.00</td>\n",
              "      <td>40.00</td>\n",
              "      <td>5.00</td>\n",
              "      <td>...</td>\n",
              "      <td>120.00</td>\n",
              "      <td>0</td>\n",
              "      <td>0</td>\n",
              "      <td>0</td>\n",
              "      <td>0</td>\n",
              "      <td>0</td>\n",
              "      <td>0</td>\n",
              "      <td>1</td>\n",
              "      <td>0</td>\n",
              "      <td>0</td>\n",
              "    </tr>\n",
              "    <tr>\n",
              "      <th>4</th>\n",
              "      <td>0</td>\n",
              "      <td>21.00</td>\n",
              "      <td>24.00</td>\n",
              "      <td>2.00</td>\n",
              "      <td>4.00</td>\n",
              "      <td>30.00</td>\n",
              "      <td>10.00</td>\n",
              "      <td>20.00</td>\n",
              "      <td>10.00</td>\n",
              "      <td>10.00</td>\n",
              "      <td>...</td>\n",
              "      <td>90.00</td>\n",
              "      <td>0</td>\n",
              "      <td>0</td>\n",
              "      <td>0</td>\n",
              "      <td>0</td>\n",
              "      <td>0</td>\n",
              "      <td>0</td>\n",
              "      <td>0</td>\n",
              "      <td>1</td>\n",
              "      <td>0</td>\n",
              "    </tr>\n",
              "    <tr>\n",
              "      <th>...</th>\n",
              "      <td>...</td>\n",
              "      <td>...</td>\n",
              "      <td>...</td>\n",
              "      <td>...</td>\n",
              "      <td>...</td>\n",
              "      <td>...</td>\n",
              "      <td>...</td>\n",
              "      <td>...</td>\n",
              "      <td>...</td>\n",
              "      <td>...</td>\n",
              "      <td>...</td>\n",
              "      <td>...</td>\n",
              "      <td>...</td>\n",
              "      <td>...</td>\n",
              "      <td>...</td>\n",
              "      <td>...</td>\n",
              "      <td>...</td>\n",
              "      <td>...</td>\n",
              "      <td>...</td>\n",
              "      <td>...</td>\n",
              "      <td>...</td>\n",
              "    </tr>\n",
              "    <tr>\n",
              "      <th>8372</th>\n",
              "      <td>1</td>\n",
              "      <td>25.00</td>\n",
              "      <td>24.00</td>\n",
              "      <td>1.00</td>\n",
              "      <td>1.00</td>\n",
              "      <td>10.00</td>\n",
              "      <td>15.00</td>\n",
              "      <td>30.00</td>\n",
              "      <td>20.00</td>\n",
              "      <td>15.00</td>\n",
              "      <td>...</td>\n",
              "      <td>-99.00</td>\n",
              "      <td>1</td>\n",
              "      <td>0</td>\n",
              "      <td>1</td>\n",
              "      <td>0</td>\n",
              "      <td>0</td>\n",
              "      <td>0</td>\n",
              "      <td>1</td>\n",
              "      <td>0</td>\n",
              "      <td>0</td>\n",
              "    </tr>\n",
              "    <tr>\n",
              "      <th>8373</th>\n",
              "      <td>1</td>\n",
              "      <td>25.00</td>\n",
              "      <td>26.00</td>\n",
              "      <td>1.00</td>\n",
              "      <td>1.00</td>\n",
              "      <td>10.00</td>\n",
              "      <td>10.00</td>\n",
              "      <td>30.00</td>\n",
              "      <td>20.00</td>\n",
              "      <td>10.00</td>\n",
              "      <td>...</td>\n",
              "      <td>-99.00</td>\n",
              "      <td>1</td>\n",
              "      <td>0</td>\n",
              "      <td>1</td>\n",
              "      <td>0</td>\n",
              "      <td>0</td>\n",
              "      <td>0</td>\n",
              "      <td>0</td>\n",
              "      <td>1</td>\n",
              "      <td>0</td>\n",
              "    </tr>\n",
              "    <tr>\n",
              "      <th>8374</th>\n",
              "      <td>1</td>\n",
              "      <td>25.00</td>\n",
              "      <td>24.00</td>\n",
              "      <td>1.00</td>\n",
              "      <td>1.00</td>\n",
              "      <td>50.00</td>\n",
              "      <td>20.00</td>\n",
              "      <td>10.00</td>\n",
              "      <td>5.00</td>\n",
              "      <td>10.00</td>\n",
              "      <td>...</td>\n",
              "      <td>-99.00</td>\n",
              "      <td>1</td>\n",
              "      <td>0</td>\n",
              "      <td>1</td>\n",
              "      <td>0</td>\n",
              "      <td>0</td>\n",
              "      <td>0</td>\n",
              "      <td>0</td>\n",
              "      <td>0</td>\n",
              "      <td>1</td>\n",
              "    </tr>\n",
              "    <tr>\n",
              "      <th>8376</th>\n",
              "      <td>1</td>\n",
              "      <td>25.00</td>\n",
              "      <td>22.00</td>\n",
              "      <td>1.00</td>\n",
              "      <td>1.00</td>\n",
              "      <td>10.00</td>\n",
              "      <td>25.00</td>\n",
              "      <td>25.00</td>\n",
              "      <td>10.00</td>\n",
              "      <td>10.00</td>\n",
              "      <td>...</td>\n",
              "      <td>0.00</td>\n",
              "      <td>1</td>\n",
              "      <td>0</td>\n",
              "      <td>1</td>\n",
              "      <td>0</td>\n",
              "      <td>0</td>\n",
              "      <td>0</td>\n",
              "      <td>0</td>\n",
              "      <td>0</td>\n",
              "      <td>0</td>\n",
              "    </tr>\n",
              "    <tr>\n",
              "      <th>8377</th>\n",
              "      <td>1</td>\n",
              "      <td>25.00</td>\n",
              "      <td>22.00</td>\n",
              "      <td>1.00</td>\n",
              "      <td>1.00</td>\n",
              "      <td>20.00</td>\n",
              "      <td>20.00</td>\n",
              "      <td>10.00</td>\n",
              "      <td>15.00</td>\n",
              "      <td>5.00</td>\n",
              "      <td>...</td>\n",
              "      <td>0.00</td>\n",
              "      <td>1</td>\n",
              "      <td>0</td>\n",
              "      <td>1</td>\n",
              "      <td>0</td>\n",
              "      <td>0</td>\n",
              "      <td>0</td>\n",
              "      <td>0</td>\n",
              "      <td>0</td>\n",
              "      <td>0</td>\n",
              "    </tr>\n",
              "  </tbody>\n",
              "</table>\n",
              "<p>8130 rows × 61 columns</p>\n",
              "</div>\n",
              "      <button class=\"colab-df-convert\" onclick=\"convertToInteractive('df-005fcb67-c3ed-4f46-8011-72c1ce296710')\"\n",
              "              title=\"Convert this dataframe to an interactive table.\"\n",
              "              style=\"display:none;\">\n",
              "        \n",
              "  <svg xmlns=\"http://www.w3.org/2000/svg\" height=\"24px\"viewBox=\"0 0 24 24\"\n",
              "       width=\"24px\">\n",
              "    <path d=\"M0 0h24v24H0V0z\" fill=\"none\"/>\n",
              "    <path d=\"M18.56 5.44l.94 2.06.94-2.06 2.06-.94-2.06-.94-.94-2.06-.94 2.06-2.06.94zm-11 1L8.5 8.5l.94-2.06 2.06-.94-2.06-.94L8.5 2.5l-.94 2.06-2.06.94zm10 10l.94 2.06.94-2.06 2.06-.94-2.06-.94-.94-2.06-.94 2.06-2.06.94z\"/><path d=\"M17.41 7.96l-1.37-1.37c-.4-.4-.92-.59-1.43-.59-.52 0-1.04.2-1.43.59L10.3 9.45l-7.72 7.72c-.78.78-.78 2.05 0 2.83L4 21.41c.39.39.9.59 1.41.59.51 0 1.02-.2 1.41-.59l7.78-7.78 2.81-2.81c.8-.78.8-2.07 0-2.86zM5.41 20L4 18.59l7.72-7.72 1.47 1.35L5.41 20z\"/>\n",
              "  </svg>\n",
              "      </button>\n",
              "      \n",
              "  <style>\n",
              "    .colab-df-container {\n",
              "      display:flex;\n",
              "      flex-wrap:wrap;\n",
              "      gap: 12px;\n",
              "    }\n",
              "\n",
              "    .colab-df-convert {\n",
              "      background-color: #E8F0FE;\n",
              "      border: none;\n",
              "      border-radius: 50%;\n",
              "      cursor: pointer;\n",
              "      display: none;\n",
              "      fill: #1967D2;\n",
              "      height: 32px;\n",
              "      padding: 0 0 0 0;\n",
              "      width: 32px;\n",
              "    }\n",
              "\n",
              "    .colab-df-convert:hover {\n",
              "      background-color: #E2EBFA;\n",
              "      box-shadow: 0px 1px 2px rgba(60, 64, 67, 0.3), 0px 1px 3px 1px rgba(60, 64, 67, 0.15);\n",
              "      fill: #174EA6;\n",
              "    }\n",
              "\n",
              "    [theme=dark] .colab-df-convert {\n",
              "      background-color: #3B4455;\n",
              "      fill: #D2E3FC;\n",
              "    }\n",
              "\n",
              "    [theme=dark] .colab-df-convert:hover {\n",
              "      background-color: #434B5C;\n",
              "      box-shadow: 0px 1px 3px 1px rgba(0, 0, 0, 0.15);\n",
              "      filter: drop-shadow(0px 1px 2px rgba(0, 0, 0, 0.3));\n",
              "      fill: #FFFFFF;\n",
              "    }\n",
              "  </style>\n",
              "\n",
              "      <script>\n",
              "        const buttonEl =\n",
              "          document.querySelector('#df-005fcb67-c3ed-4f46-8011-72c1ce296710 button.colab-df-convert');\n",
              "        buttonEl.style.display =\n",
              "          google.colab.kernel.accessAllowed ? 'block' : 'none';\n",
              "\n",
              "        async function convertToInteractive(key) {\n",
              "          const element = document.querySelector('#df-005fcb67-c3ed-4f46-8011-72c1ce296710');\n",
              "          const dataTable =\n",
              "            await google.colab.kernel.invokeFunction('convertToInteractive',\n",
              "                                                     [key], {});\n",
              "          if (!dataTable) return;\n",
              "\n",
              "          const docLinkHtml = 'Like what you see? Visit the ' +\n",
              "            '<a target=\"_blank\" href=https://colab.research.google.com/notebooks/data_table.ipynb>data table notebook</a>'\n",
              "            + ' to learn more about interactive tables.';\n",
              "          element.innerHTML = '';\n",
              "          dataTable['output_type'] = 'display_data';\n",
              "          await google.colab.output.renderOutput(dataTable, element);\n",
              "          const docLink = document.createElement('div');\n",
              "          docLink.innerHTML = docLinkHtml;\n",
              "          element.appendChild(docLink);\n",
              "        }\n",
              "      </script>\n",
              "    </div>\n",
              "  </div>\n",
              "  "
            ]
          },
          "metadata": {},
          "execution_count": 64
        }
      ]
    },
    {
      "cell_type": "code",
      "source": [
        "df.info()"
      ],
      "metadata": {
        "id": "KiQxhZrRfpcW"
      },
      "execution_count": null,
      "outputs": []
    },
    {
      "cell_type": "markdown",
      "source": [
        "# 모델링 (마침내!)"
      ],
      "metadata": {
        "id": "RGcVQeNMfve7"
      }
    },
    {
      "cell_type": "code",
      "source": [],
      "metadata": {
        "id": "m0c-i-dHftB9"
      },
      "execution_count": null,
      "outputs": []
    },
    {
      "cell_type": "code",
      "source": [
        "import xgboost as xgb"
      ],
      "metadata": {
        "id": "8TkFMVKfgNJ1"
      },
      "execution_count": null,
      "outputs": []
    },
    {
      "cell_type": "code",
      "source": [],
      "metadata": {
        "id": "BXmmPSfSgRMV"
      },
      "execution_count": null,
      "outputs": []
    },
    {
      "cell_type": "code",
      "source": [],
      "metadata": {
        "colab": {
          "base_uri": "https://localhost:8080/"
        },
        "id": "kqW9vEh1gWGu",
        "outputId": "a4314c4e-3ae9-48bf-b011-842fe4840b3b"
      },
      "execution_count": null,
      "outputs": [
        {
          "output_type": "execute_result",
          "data": {
            "text/plain": [
              "XGBClassifier(random_state=23)"
            ]
          },
          "metadata": {},
          "execution_count": 69
        }
      ]
    },
    {
      "cell_type": "code",
      "source": [],
      "metadata": {
        "id": "ewgjw98lgX-2"
      },
      "execution_count": null,
      "outputs": []
    },
    {
      "cell_type": "code",
      "source": [],
      "metadata": {
        "id": "D2--_r32gf6U"
      },
      "execution_count": null,
      "outputs": []
    },
    {
      "cell_type": "code",
      "source": [
        "# 학습율\n"
      ],
      "metadata": {
        "colab": {
          "base_uri": "https://localhost:8080/"
        },
        "id": "X3zE3wYxgoEd",
        "outputId": "bd760337-0ff8-47e4-a8ac-6e86e9f3fab0"
      },
      "execution_count": null,
      "outputs": [
        {
          "output_type": "stream",
          "name": "stdout",
          "text": [
            "0.8828413284132841\n",
            "0.8462484624846248\n"
          ]
        }
      ]
    },
    {
      "cell_type": "code",
      "source": [],
      "metadata": {
        "colab": {
          "base_uri": "https://localhost:8080/"
        },
        "id": "aLg0K99JhK0k",
        "outputId": "10db65ad-d522-40ad-9b63-ea155d638a4e"
      },
      "execution_count": null,
      "outputs": [
        {
          "output_type": "stream",
          "name": "stdout",
          "text": [
            "0.9998462484624846\n",
            "0.8560885608856088\n"
          ]
        }
      ]
    },
    {
      "cell_type": "code",
      "source": [
        "from sklearn.metrics import confusion_matrix\n",
        "\n",
        "# 오른쪽 위 : 1종 오류 - 실제 틀린데 (0) 맞다고 예측 (1) - 68\n",
        "# 왼쪽 아래 : 2종 오류 - 실제 맞는데 (1) 틀리다고 예측 (0) - 147\n",
        "print(confusion_matrix(y_test, test_pred))\n",
        "cf_matrix = confusion_matrix(y_test, test_pred)\n",
        "cf_matrix\n",
        "group_names = ['TN','FP','FN','TP']\n",
        "group_counts = [\"{0:0.0f}\".format(value) for value in\n",
        "                cf_matrix.flatten()]\n",
        "group_percentages = [\"{0:.2%}\".format(value) for value in\n",
        "                     cf_matrix.flatten()/np.sum(cf_matrix)]\n",
        "labels = [f\"{v1}\\n{v2}\\n{v3}\" for v1, v2, v3 in\n",
        "          zip(group_names,group_counts,group_percentages)]\n",
        "labels = np.asarray(labels).reshape(2,2)\n",
        "sns.heatmap(cf_matrix, annot=labels, fmt='', cmap='coolwarm')\n",
        "plt.ylabel('True')\n",
        "plt.xlabel('Predicted')\n",
        "plt.show()\n",
        "# TP(양성을 양성으로 판단)\n",
        "# FN(양성을 음성으로 판단) -> 2종 오류 (맞는데 틀리다고)\n",
        "# FP(음성을 양성으로 판단) -> 1종 오류 (틀린데 맞다고)\n",
        "# TN(음성을 음성으로 판단)"
      ],
      "metadata": {
        "colab": {
          "base_uri": "https://localhost:8080/",
          "height": 315
        },
        "id": "0rTre4xBmKhj",
        "outputId": "ce2e4e39-07bf-463a-a21b-e6b94baef410"
      },
      "execution_count": null,
      "outputs": [
        {
          "output_type": "stream",
          "name": "stdout",
          "text": [
            "[[1265   62]\n",
            " [ 172  127]]\n"
          ]
        },
        {
          "output_type": "display_data",
          "data": {
            "text/plain": [
              "<Figure size 432x288 with 2 Axes>"
            ],
            "image/png": "[encoded data removed]"
          },
          "metadata": {
            "needs_background": "light"
          }
        }
      ]
    },
    {
      "cell_type": "markdown",
      "source": [
        "## Classfication Report (분류 리포트)\n",
        "* 이진분류 할 때 중요 (3개 이상 분류할 때는 상대적으로 덜 중요함)"
      ],
      "metadata": {
        "id": "cdhsIwyym1PF"
      }
    },
    {
      "cell_type": "code",
      "source": [
        "from sklearn.metrics import classification_report"
      ],
      "metadata": {
        "id": "LersgpJdms7f"
      },
      "execution_count": null,
      "outputs": []
    },
    {
      "cell_type": "code",
      "source": [],
      "metadata": {
        "colab": {
          "base_uri": "https://localhost:8080/"
        },
        "id": "2iMrhkNRmys0",
        "outputId": "a3f459c3-7153-44c4-f77b-eb4e4da47b92"
      },
      "execution_count": null,
      "outputs": [
        {
          "output_type": "stream",
          "name": "stdout",
          "text": [
            "              precision    recall  f1-score   support\n",
            "\n",
            "           0       0.88      0.95      0.92      1327\n",
            "           1       0.67      0.42      0.52       299\n",
            "\n",
            "    accuracy                           0.86      1626\n",
            "   macro avg       0.78      0.69      0.72      1626\n",
            "weighted avg       0.84      0.86      0.84      1626\n",
            "\n"
          ]
        }
      ]
    },
    {
      "cell_type": "markdown",
      "source": [
        "* 0 : match 성사가 안 된 경우\n",
        "* **1 : match 성사된 경우** (분석대상이 되는쪽, 예측대상)\n",
        "* `precision` : 정밀도\n",
        "* `recall` : 재현율\n",
        "* `f1-score` : f1-점수"
      ],
      "metadata": {
        "id": "z3mwvOtZnC6B"
      }
    },
    {
      "cell_type": "markdown",
      "source": [
        "#### 정밀도(precision)\n",
        "* 1로 예측한 경우 중, 얼마만큼이 실제로 1인지를 나타냄<br>\n",
        "$TP\\over(TP+FP)$\n",
        "=\n",
        "$\\frac{양성을 양성으로 판단}{양성을 양성으로 판단 + 1종 오류}$\n",
        "=\n",
        "$\\frac{양성을 양성으로 판단}{양성으로 판단한 수}$\n",
        "> FP가 커질수록 분모가 커지기 때문에 정밀도는 낮아짐 (1종 오류와 관련)\n",
        "\n",
        "* 1종 오류 / 위양성 / 아닌데 맞다고 / 안 걸렸는데 걸렸다고 나옴\n",
        "* 정밀도가 높아지려면 0인데 1로 잘못 분류한게 적어져야함 (FP)"
      ],
      "metadata": {
        "id": "ukKP1ER1ncWf"
      }
    },
    {
      "cell_type": "markdown",
      "source": [
        "#### 재현율(recall)\n",
        "* 실제로 1 중에, 얼마만큼을 1로 예측했는지 나타냄<br>\n",
        "$TP\\over(TP+FN)$\n",
        "=\n",
        "$\\frac{양성을 양성으로 판단}{양성을 양성으로 판단 + 2종 오류}$\n",
        "=\n",
        "$\\frac{양성을 양성으로 판단}{실제로 양성인 수}$\n",
        "> FN가 커질수록 분모가 커지기 때문에 재현율은 낮아짐 (2종 오류와 관련)\n",
        "\n",
        "* 2종 오류 : 맞는데 아니라고 / 걸렸는데 안걸렸다고..\n",
        "* 재현율이 높아지려고 하면 : 실제로는 1인데 0으로 잡히는 위음성이 줄어들어야함 (FN)"
      ],
      "metadata": {
        "id": "8l_6VeHJn5B5"
      }
    },
    {
      "cell_type": "markdown",
      "source": [
        "#### F-1점수(f-score)\n",
        "* 정밀도와 재현율의 조화평균<br>\n",
        "* 조화평균 : 주어진 수들의 역수의 산술평균의 역수\n",
        "    * 예) $H = \\frac{2a_1a_2}{a_1 + a_2}$\n",
        "\n",
        "$2 \\times \\frac{precision \\times recall}{precesion + recall}$\n",
        "=\n",
        "$2 \\times \\frac{정밀도 \\times 재현율}{정밀도 + 재현율}$\n",
        "\n",
        "> 1종 오류가 중요하면 정밀도, 2종 오류가 중요하면 재현율<br>\n",
        "> 딱히 중요한 것 없으면 F1-점수"
      ],
      "metadata": {
        "id": "zpVE_tjSogE2"
      }
    },
    {
      "cell_type": "markdown",
      "source": [
        "## 하이퍼 파라미터 튜닝"
      ],
      "metadata": {
        "id": "1W0SHW5gpCpw"
      }
    },
    {
      "cell_type": "markdown",
      "source": [
        "### 경사하강법\n",
        "* 머신 러닝이 학습시킬 때 최소의 오차를 찾는 방법\n",
        "* 오차 함수에 대한 경사도(미분계수)를 기준으로 매개변수를 반복적으로 이동해가며 최소 오차를 찾음\n",
        "* 매개변수? : 선형 회귀에서의 계수(변수에 대한 기울기 값)에 해당\n",
        "\n",
        "**경사하강법과 보폭**\n",
        "* 경사부스팅의 핵심개념 중 하나로, 모델이 어떻게 최소 오차가 되는 매개변수들을 학습하는지에 대한 방법\n",
        "* 오차식에 대한 미분계수를 통해 매개 변수의 이동 방향과 보폭을 결정\n",
        "* 보폭은 매개변수를 얼만큼씩 이동할지를 의미\n",
        "\n",
        "**미분계수**\n",
        "* 평균변화율에서 x의 증가량을 0으로 가깝게 할 때의 평균변화율\n",
        "* 그래프 상에서 접선의 기울기, 계수"
      ],
      "metadata": {
        "id": "J4IJsJH6pEiJ"
      }
    },
    {
      "cell_type": "markdown",
      "source": [
        "* learning_rate\n",
        "    * 경사하강법에서 ‘매개변수’를 얼만큼씩 이동해가면서 최소 오차를 찾을지, 그 보폭의 크기를 결정하는 하이퍼파라미터.\n",
        "    * 기본적으로 보폭은 미분계수에 의해 결정되지만, learning_rate를 크게 하면 더 큰 보폭을, 작게 하면 그만큼 작은 보폭으로 움직임.\n",
        "    * learning rate를 우리말로 학습률이라고 함\n",
        "    * 학습률과 보폭 : 학습률은 입력, 보폭은 그 결과. 큰 학습률을 사용하면 결과적으로 보폭도 커짐\n",
        "    * 너무 작은 학습률 -> 상당한 시간이 들고, 오버피팅 문제 일어남\n",
        "    * 너무 큰 학습률 -> 학습이 제대로 안 됨\n",
        "    * 적절한 크기의 학습률을 사용해야만 큰 시간을 들이지 않고 최소 오차 지점을 찾을 수 있음\n",
        "* max_depth : 각 트리의 깊이를 제한\n",
        "* subsample : 모델을 학습시킬 때 일부 데이터만 사용하여 각 트리를 만듦. 0.5를 쓰면 데이터의 절반씩만 랜덤 추출하여 트리를 만듦. 이 또한 오버피팅을 방지하는 데 도움이 됨\n",
        "* n_estimators : 전체 나무의 개수."
      ],
      "metadata": {
        "id": "rHQ38rm1plPK"
      }
    },
    {
      "cell_type": "markdown",
      "source": [
        "### 그리드 서치\n",
        "* 하이퍼 패러미터 튜닝\n",
        "    * 방법 1 : KNN for문으로 가능한 조합을 다 넣어봄 -> 학습 빠르고, 그 때 데이터 자체가 적었고...\n",
        "    * 방법 2 : 직관, 왠지 잘 되는 수치가 있음\n",
        "    * 방법 3 : 순정. -> default\n",
        "    ...\n",
        "    * 일반적인 몇 가지 수치들을 가지고 조합을 만들어보자\n",
        "    * grid - 격자 -> 처리"
      ],
      "metadata": {
        "id": "du5Tc0UnqA28"
      }
    },
    {
      "cell_type": "code",
      "source": [
        "# 학습률 : learning_rate\n",
        "# max_depth, subsample, nestimators\n",
        "# dictionary\n",
        "parameter = {\n",
        "    'learning_rate': [0.01, 0.1, 0.3], # 학습에 쓰이는 매개변수를 조절해서 최소 오차 허용을 조작 -> 보폭 수정\n",
        "    'max_depth': [5, 7, 10], # 트리의 깊이 제한 (오버피팅)\n",
        "    'subsample': [0.5, 0.7, 1], # 학습할 때 데이터 전체 쓰는 게 아니라, subsample 비율에 따라서 부분만 추출\n",
        "    'n_estimators': [300, 500, 1000] # 트리 개수 3^4 = 81\n",
        "}\n",
        "# parameter = {\n",
        "#     'learning_rate': [0.3],\n",
        "#     'max_depth': [5],\n",
        "#     'subsample': [0.5],\n",
        "#     'n_estimators': [1000]\n",
        "# }"
      ],
      "metadata": {
        "id": "KrFHCnHHqvlB"
      },
      "execution_count": null,
      "outputs": []
    },
    {
      "cell_type": "code",
      "source": [
        "from sklearn.model_selection import GridSearchCV"
      ],
      "metadata": {
        "id": "W-afJYW_rfDL"
      },
      "execution_count": null,
      "outputs": []
    },
    {
      "cell_type": "code",
      "source": [],
      "metadata": {
        "id": "EwsDvrxyrkay"
      },
      "execution_count": null,
      "outputs": []
    },
    {
      "cell_type": "code",
      "source": [
        "# 모델, 패러미터 dict, n_jobs, scoring='f1', cv=5\n",
        "# cv = kfold -> folding\n",
        "# Cross Validation\n",
        "gs_model = GridSearchCV(\n",
        "    # n_jobs : CPU 개수 (-1 : 최대로.. colab 2개)\n",
        "    # scoring : grid별로 모델이 만들어지는 셈 => 모델 간의 비교를?\n",
        "    # cv : 얼마나 나눠서 평균치를 구해줄거냐 (Kfold에서의 k)\n",
        "    model, parameter, n_jobs=-1, scoring='f1', cv=5, verbose=1\n",
        ")"
      ],
      "metadata": {
        "id": "BKdXVQ8Grm7x"
      },
      "execution_count": null,
      "outputs": []
    },
    {
      "cell_type": "code",
      "source": [],
      "metadata": {
        "id": "zjYh-12YsZgB"
      },
      "execution_count": null,
      "outputs": []
    },
    {
      "cell_type": "code",
      "source": [],
      "metadata": {
        "id": "_lHKPRAZsc0S",
        "colab": {
          "base_uri": "https://localhost:8080/"
        },
        "outputId": "90ef6d8b-3fba-432d-921b-8aa7289d4db7"
      },
      "execution_count": null,
      "outputs": [
        {
          "output_type": "execute_result",
          "data": {
            "text/plain": [
              "0.5091097109808647"
            ]
          },
          "metadata": {},
          "execution_count": 85
        }
      ]
    },
    {
      "cell_type": "code",
      "source": [],
      "metadata": {
        "id": "YZC-Ex7z2Wja",
        "colab": {
          "base_uri": "https://localhost:8080/"
        },
        "outputId": "34daf85a-d53f-4435-b4e5-87cb028e28ab"
      },
      "execution_count": null,
      "outputs": [
        {
          "output_type": "execute_result",
          "data": {
            "text/plain": [
              "{'learning_rate': 0.1, 'max_depth': 5, 'n_estimators': 300, 'subsample': 0.5}"
            ]
          },
          "metadata": {},
          "execution_count": 86
        }
      ]
    },
    {
      "cell_type": "code",
      "source": [],
      "metadata": {
        "id": "owwnOMca2aiH"
      },
      "execution_count": null,
      "outputs": []
    },
    {
      "cell_type": "code",
      "source": [
        "print(f\"accuracy_score : {accuracy_score(y_test, pred)}\")\n",
        "print(classification_report(y_test, pred))"
      ],
      "metadata": {
        "id": "G8sbP4yV2ejH",
        "colab": {
          "base_uri": "https://localhost:8080/"
        },
        "outputId": "2d96f6f3-6893-47ba-d2c9-276bd108b0c6"
      },
      "execution_count": null,
      "outputs": [
        {
          "output_type": "stream",
          "name": "stdout",
          "text": [
            "accuracy_score : 0.8579335793357934\n",
            "              precision    recall  f1-score   support\n",
            "\n",
            "           0       0.88      0.96      0.92      1327\n",
            "           1       0.69      0.41      0.52       299\n",
            "\n",
            "    accuracy                           0.86      1626\n",
            "   macro avg       0.78      0.68      0.72      1626\n",
            "weighted avg       0.84      0.86      0.84      1626\n",
            "\n"
          ]
        }
      ]
    },
    {
      "cell_type": "code",
      "source": [
        "!pip install mlxtend -q"
      ],
      "metadata": {
        "id": "Yj9NpMb51RIw"
      },
      "execution_count": null,
      "outputs": []
    },
    {
      "cell_type": "code",
      "source": [
        "import joblib"
      ],
      "metadata": {
        "id": "0VpH2HH1B2WG"
      },
      "execution_count": null,
      "outputs": []
    },
    {
      "cell_type": "code",
      "source": [
        "import joblib\n",
        "from google.colab import files\n",
        "\n",
        "fn = 'gs_model.pkl'\n",
        "joblib.dump(gs_model, fn)\n",
        "files.download(fn)"
      ],
      "metadata": {
        "colab": {
          "base_uri": "https://localhost:8080/",
          "height": 17
        },
        "id": "2rdIVnQs1V6K",
        "outputId": "5df3b0ff-f174-40a7-f3b1-e06a6a3dff7e"
      },
      "execution_count": null,
      "outputs": [
        {
          "output_type": "display_data",
          "data": {
            "text/plain": [
              "<IPython.core.display.Javascript object>"
            ],
            "application/javascript": [
              "\n",
              "    async function download(id, filename, size) {\n",
              "      if (!google.colab.kernel.accessAllowed) {\n",
              "        return;\n",
              "      }\n",
              "      const div = document.createElement('div');\n",
              "      const label = document.createElement('label');\n",
              "      label.textContent = `Downloading \"${filename}\": `;\n",
              "      div.appendChild(label);\n",
              "      const progress = document.createElement('progress');\n",
              "      progress.max = size;\n",
              "      div.appendChild(progress);\n",
              "      document.body.appendChild(div);\n",
              "\n",
              "      const buffers = [];\n",
              "      let downloaded = 0;\n",
              "\n",
              "      const channel = await google.colab.kernel.comms.open(id);\n",
              "      // Send a message to notify the kernel that we're ready.\n",
              "      channel.send({})\n",
              "\n",
              "      for await (const message of channel.messages) {\n",
              "        // Send a message to notify the kernel that we're ready.\n",
              "        channel.send({})\n",
              "        if (message.buffers) {\n",
              "          for (const buffer of message.buffers) {\n",
              "            buffers.push(buffer);\n",
              "            downloaded += buffer.byteLength;\n",
              "            progress.value = downloaded;\n",
              "          }\n",
              "        }\n",
              "      }\n",
              "      const blob = new Blob(buffers, {type: 'application/binary'});\n",
              "      const a = document.createElement('a');\n",
              "      a.href = window.URL.createObjectURL(blob);\n",
              "      a.download = filename;\n",
              "      div.appendChild(a);\n",
              "      a.click();\n",
              "      div.remove();\n",
              "    }\n",
              "  "
            ]
          },
          "metadata": {}
        },
        {
          "output_type": "display_data",
          "data": {
            "text/plain": [
              "<IPython.core.display.Javascript object>"
            ],
            "application/javascript": [
              "download(\"download_a1879dc3-28e7-455c-bbcd-75997d9f340c\", \"gs_model.pkl\", 568051)"
            ]
          },
          "metadata": {}
        }
      ]
    },
    {
      "cell_type": "code",
      "source": [
        "gs_model = joblib.load('gs_model.pkl')\n",
        "gs_model"
      ],
      "metadata": {
        "colab": {
          "base_uri": "https://localhost:8080/"
        },
        "id": "RU3aDvDJBxwc",
        "outputId": "b240830b-1724-4862-eeb8-ec73332d29e8"
      },
      "execution_count": null,
      "outputs": [
        {
          "output_type": "execute_result",
          "data": {
            "text/plain": [
              "GridSearchCV(cv=5, estimator=XGBClassifier(missing=nan, verbosity=3), n_jobs=-1,\n",
              "             param_grid={'learning_rate': [0.01, 0.1, 0.3],\n",
              "                         'max_depth': [5, 7, 10],\n",
              "                         'n_estimators': [300, 500, 1000],\n",
              "                         'subsample': [0.5, 0.7, 1]},\n",
              "             scoring='f1', verbose=3)"
            ]
          },
          "metadata": {},
          "execution_count": 19
        }
      ]
    },
    {
      "cell_type": "code",
      "source": [
        "gs_model.best_params_"
      ],
      "metadata": {
        "colab": {
          "base_uri": "https://localhost:8080/"
        },
        "id": "M1EtdR2WB7S9",
        "outputId": "05ffbb7c-c4f4-43fb-aad4-1f9ae1916ee8"
      },
      "execution_count": null,
      "outputs": [
        {
          "output_type": "execute_result",
          "data": {
            "text/plain": [
              "{'learning_rate': 0.1, 'max_depth': 5, 'n_estimators': 300, 'subsample': 0.5}"
            ]
          },
          "metadata": {},
          "execution_count": 9
        }
      ]
    },
    {
      "cell_type": "code",
      "source": [
        "gs_model.best_score_"
      ],
      "metadata": {
        "colab": {
          "base_uri": "https://localhost:8080/"
        },
        "id": "n3kF4Lm6B-aK",
        "outputId": "89da6bd5-1915-4383-bef4-9a9ea46af772"
      },
      "execution_count": null,
      "outputs": [
        {
          "output_type": "execute_result",
          "data": {
            "text/plain": [
              "0.5091097109808647"
            ]
          },
          "metadata": {},
          "execution_count": 10
        }
      ]
    },
    {
      "cell_type": "code",
      "source": [
        "from google.colab import files\n",
        "\n",
        "files.upload()"
      ],
      "metadata": {
        "id": "mLuXww6CCDbM"
      },
      "execution_count": null,
      "outputs": []
    },
    {
      "cell_type": "markdown",
      "source": [
        "### 중요 변수 확인"
      ],
      "metadata": {
        "id": "SCLqNSqT2-wM"
      }
    },
    {
      "cell_type": "code",
      "source": [
        "model = xgb.XGBClassifier(learning=0.3, max_depth=5,\n",
        "                          n_estimators=1000, subsample=0.5, random_state=23)\n",
        "model.fit(X_train, y_train)"
      ],
      "metadata": {
        "id": "KaTXqup529jM"
      },
      "execution_count": null,
      "outputs": []
    },
    {
      "cell_type": "code",
      "source": [
        "# 중요 변수\n",
        "# xgboost -> feature_importances_\n",
        "model.feature_importances_"
      ],
      "metadata": {
        "id": "XWaYY0BB3aVO"
      },
      "execution_count": null,
      "outputs": []
    },
    {
      "cell_type": "code",
      "source": [
        "feature_imp = pd.DataFrame({\n",
        "    'features': X_train.columns,\n",
        "    'values': model.feature_importances_,\n",
        "})"
      ],
      "metadata": {
        "id": "3DgHeg843qBe"
      },
      "execution_count": null,
      "outputs": []
    },
    {
      "cell_type": "code",
      "source": [
        "pd.options.display.float_format = '{:.6f}'.format\n",
        "feature_imp.head()"
      ],
      "metadata": {
        "id": "K81QErbO38NH"
      },
      "execution_count": null,
      "outputs": []
    },
    {
      "cell_type": "code",
      "source": [
        "feature_imp.sort_values(by='values', ascending=False)"
      ],
      "metadata": {
        "id": "JamDti1O4Lqh"
      },
      "execution_count": null,
      "outputs": []
    },
    {
      "cell_type": "code",
      "source": [
        "plt.figure(figsize=(100, 200))\n",
        "feature_imp.sort_values(by='values', ascending=True).plot(kind='bar')\n",
        "plt.show()"
      ],
      "metadata": {
        "id": "03SyHXOg4ip1"
      },
      "execution_count": null,
      "outputs": []
    },
    {
      "cell_type": "code",
      "source": [
        "plt.figure(figsize=(20, 10))\n",
        "sns.barplot(x='values', y='features',\n",
        "            data= feature_imp.sort_values(by='values', ascending=False))\n",
        "plt.show()"
      ],
      "metadata": {
        "id": "4Re1SvgR42c_"
      },
      "execution_count": null,
      "outputs": []
    },
    {
      "cell_type": "code",
      "source": [
        "plt.figure(figsize=(20, 10))\n",
        "sns.barplot(x='values', y='features',\n",
        "            data= feature_imp.sort_values(by='values', ascending=False).head(10))\n",
        "plt.show()\n",
        "# 상위 10개의 영향도 높은 변수들"
      ],
      "metadata": {
        "id": "L8Zl0vXO5Jwl"
      },
      "execution_count": null,
      "outputs": []
    }
  ]
}